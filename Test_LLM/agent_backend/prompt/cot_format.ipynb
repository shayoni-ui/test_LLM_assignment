{
  "cells": [
    {
      "cell_type": "code",
      "source": [
        "import os\n",
        "import pandas as pd\n",
        "\n"
      ],
      "outputs": [],
      "execution_count": 1,
      "metadata": {
        "gather": {
          "logged": 1748566321750
        }
      },
      "id": "6f136dcb"
    },
    {
      "cell_type": "code",
      "source": [
        "dataset = pd.read_csv(\"../agent_backend/datasources/demographics.csv\")\n",
        "\n"
      ],
      "outputs": [],
      "execution_count": null,
      "metadata": {
        "gather": {
          "logged": 1748566549016
        }
      },
      "id": "02b200f1-4a01-43ee-8b32-44a2f77f85c1"
    },
    {
      "cell_type": "code",
      "source": [
        "%pip install datasets"
      ],
      "outputs": [
        {
          "output_type": "stream",
          "name": "stdout",
          "text": "Collecting datasets\n  Downloading datasets-3.6.0-py3-none-any.whl.metadata (19 kB)\nRequirement already satisfied: filelock in /anaconda/envs/azureml_py310_sdkv2/lib/python3.10/site-packages (from datasets) (3.16.1)\nRequirement already satisfied: numpy>=1.17 in /anaconda/envs/azureml_py310_sdkv2/lib/python3.10/site-packages (from datasets) (1.26.4)\nRequirement already satisfied: pyarrow>=15.0.0 in /anaconda/envs/azureml_py310_sdkv2/lib/python3.10/site-packages (from datasets) (15.0.2)\nCollecting dill<0.3.9,>=0.3.0 (from datasets)\n  Downloading dill-0.3.8-py3-none-any.whl.metadata (10 kB)\nRequirement already satisfied: pandas in /anaconda/envs/azureml_py310_sdkv2/lib/python3.10/site-packages (from datasets) (2.2.3)\nRequirement already satisfied: requests>=2.32.2 in /anaconda/envs/azureml_py310_sdkv2/lib/python3.10/site-packages (from datasets) (2.32.3)\nRequirement already satisfied: tqdm>=4.66.3 in /anaconda/envs/azureml_py310_sdkv2/lib/python3.10/site-packages (from datasets) (4.66.5)\nCollecting xxhash (from datasets)\n  Downloading xxhash-3.5.0-cp310-cp310-manylinux_2_17_x86_64.manylinux2014_x86_64.whl.metadata (12 kB)\nCollecting multiprocess<0.70.17 (from datasets)\n  Downloading multiprocess-0.70.16-py310-none-any.whl.metadata (7.2 kB)\nRequirement already satisfied: fsspec<=2025.3.0,>=2023.1.0 in /anaconda/envs/azureml_py310_sdkv2/lib/python3.10/site-packages (from fsspec[http]<=2025.3.0,>=2023.1.0->datasets) (2023.10.0)\nCollecting huggingface-hub>=0.24.0 (from datasets)\n  Downloading huggingface_hub-0.31.4-py3-none-any.whl.metadata (13 kB)\nRequirement already satisfied: packaging in /anaconda/envs/azureml_py310_sdkv2/lib/python3.10/site-packages (from datasets) (24.1)\nRequirement already satisfied: pyyaml>=5.1 in /anaconda/envs/azureml_py310_sdkv2/lib/python3.10/site-packages (from datasets) (6.0.2)\nRequirement already satisfied: aiohttp!=4.0.0a0,!=4.0.0a1 in /anaconda/envs/azureml_py310_sdkv2/lib/python3.10/site-packages (from fsspec[http]<=2025.3.0,>=2023.1.0->datasets) (3.11.18)\nRequirement already satisfied: typing-extensions>=3.7.4.3 in /anaconda/envs/azureml_py310_sdkv2/lib/python3.10/site-packages (from huggingface-hub>=0.24.0->datasets) (4.12.2)\nRequirement already satisfied: charset-normalizer<4,>=2 in /anaconda/envs/azureml_py310_sdkv2/lib/python3.10/site-packages (from requests>=2.32.2->datasets) (3.3.2)\nRequirement already satisfied: idna<4,>=2.5 in /anaconda/envs/azureml_py310_sdkv2/lib/python3.10/site-packages (from requests>=2.32.2->datasets) (3.10)\nRequirement already satisfied: urllib3<3,>=1.21.1 in /anaconda/envs/azureml_py310_sdkv2/lib/python3.10/site-packages (from requests>=2.32.2->datasets) (2.2.3)\nRequirement already satisfied: certifi>=2017.4.17 in /anaconda/envs/azureml_py310_sdkv2/lib/python3.10/site-packages (from requests>=2.32.2->datasets) (2024.8.30)\nRequirement already satisfied: python-dateutil>=2.8.2 in /anaconda/envs/azureml_py310_sdkv2/lib/python3.10/site-packages (from pandas->datasets) (2.9.0)\nRequirement already satisfied: pytz>=2020.1 in /anaconda/envs/azureml_py310_sdkv2/lib/python3.10/site-packages (from pandas->datasets) (2024.2)\nRequirement already satisfied: tzdata>=2022.7 in /anaconda/envs/azureml_py310_sdkv2/lib/python3.10/site-packages (from pandas->datasets) (2024.1)\nRequirement already satisfied: aiohappyeyeballs>=2.3.0 in /anaconda/envs/azureml_py310_sdkv2/lib/python3.10/site-packages (from aiohttp!=4.0.0a0,!=4.0.0a1->fsspec[http]<=2025.3.0,>=2023.1.0->datasets) (2.6.1)\nRequirement already satisfied: aiosignal>=1.1.2 in /anaconda/envs/azureml_py310_sdkv2/lib/python3.10/site-packages (from aiohttp!=4.0.0a0,!=4.0.0a1->fsspec[http]<=2025.3.0,>=2023.1.0->datasets) (1.3.1)\nRequirement already satisfied: async-timeout<6.0,>=4.0 in /anaconda/envs/azureml_py310_sdkv2/lib/python3.10/site-packages (from aiohttp!=4.0.0a0,!=4.0.0a1->fsspec[http]<=2025.3.0,>=2023.1.0->datasets) (4.0.3)\nRequirement already satisfied: attrs>=17.3.0 in /anaconda/envs/azureml_py310_sdkv2/lib/python3.10/site-packages (from aiohttp!=4.0.0a0,!=4.0.0a1->fsspec[http]<=2025.3.0,>=2023.1.0->datasets) (24.2.0)\nRequirement already satisfied: frozenlist>=1.1.1 in /anaconda/envs/azureml_py310_sdkv2/lib/python3.10/site-packages (from aiohttp!=4.0.0a0,!=4.0.0a1->fsspec[http]<=2025.3.0,>=2023.1.0->datasets) (1.4.1)\nRequirement already satisfied: multidict<7.0,>=4.5 in /anaconda/envs/azureml_py310_sdkv2/lib/python3.10/site-packages (from aiohttp!=4.0.0a0,!=4.0.0a1->fsspec[http]<=2025.3.0,>=2023.1.0->datasets) (6.4.4)\nRequirement already satisfied: propcache>=0.2.0 in /anaconda/envs/azureml_py310_sdkv2/lib/python3.10/site-packages (from aiohttp!=4.0.0a0,!=4.0.0a1->fsspec[http]<=2025.3.0,>=2023.1.0->datasets) (0.3.1)\nRequirement already satisfied: yarl<2.0,>=1.17.0 in /anaconda/envs/azureml_py310_sdkv2/lib/python3.10/site-packages (from aiohttp!=4.0.0a0,!=4.0.0a1->fsspec[http]<=2025.3.0,>=2023.1.0->datasets) (1.20.0)\nRequirement already satisfied: six>=1.5 in /anaconda/envs/azureml_py310_sdkv2/lib/python3.10/site-packages (from python-dateutil>=2.8.2->pandas->datasets) (1.16.0)\nDownloading datasets-3.6.0-py3-none-any.whl (491 kB)\nDownloading dill-0.3.8-py3-none-any.whl (116 kB)\nDownloading huggingface_hub-0.31.4-py3-none-any.whl (489 kB)\nDownloading multiprocess-0.70.16-py310-none-any.whl (134 kB)\nDownloading xxhash-3.5.0-cp310-cp310-manylinux_2_17_x86_64.manylinux2014_x86_64.whl (194 kB)\nInstalling collected packages: xxhash, dill, multiprocess, huggingface-hub, datasets\nSuccessfully installed datasets-3.6.0 dill-0.3.8 huggingface-hub-0.31.4 multiprocess-0.70.16 xxhash-3.5.0\nNote: you may need to restart the kernel to use updated packages.\n"
        }
      ],
      "execution_count": 2,
      "metadata": {},
      "id": "03228c12"
    },
    {
      "cell_type": "code",
      "source": [
        "display(dataset.head())"
      ],
      "outputs": [
        {
          "output_type": "display_data",
          "data": {
            "text/html": "<div>\n<style scoped>\n    .dataframe tbody tr th:only-of-type {\n        vertical-align: middle;\n    }\n\n    .dataframe tbody tr th {\n        vertical-align: top;\n    }\n\n    .dataframe thead th {\n        text-align: right;\n    }\n</style>\n<table border=\"1\" class=\"dataframe\">\n  <thead>\n    <tr style=\"text-align: right;\">\n      <th></th>\n      <th>input</th>\n      <th>output</th>\n      <th>instruction</th>\n    </tr>\n  </thead>\n  <tbody>\n    <tr>\n      <th>0</th>\n      <td>stock-based awards under the plan stock option...</td>\n      <td>60.94</td>\n      <td>Read the following texts and table with financ...</td>\n    </tr>\n    <tr>\n      <th>1</th>\n      <td>stock-based awards under the plan stock option...</td>\n      <td>25.14</td>\n      <td>Read the following texts and table with financ...</td>\n    </tr>\n    <tr>\n      <th>2</th>\n      <td>stock-based awards under the plan stock option...</td>\n      <td>35.8</td>\n      <td>Read the following texts and table with financ...</td>\n    </tr>\n    <tr>\n      <th>3</th>\n      <td>stock-based awards under the plan stock option...</td>\n      <td>25.14</td>\n      <td>Read the following texts and table with financ...</td>\n    </tr>\n    <tr>\n      <th>4</th>\n      <td>stock-based awards under the plan stock option...</td>\n      <td>1.42403</td>\n      <td>Read the following texts and table with financ...</td>\n    </tr>\n  </tbody>\n</table>\n</div>",
            "text/plain": "                                               input   output  \\\n0  stock-based awards under the plan stock option...    60.94   \n1  stock-based awards under the plan stock option...    25.14   \n2  stock-based awards under the plan stock option...     35.8   \n3  stock-based awards under the plan stock option...    25.14   \n4  stock-based awards under the plan stock option...  1.42403   \n\n                                         instruction  \n0  Read the following texts and table with financ...  \n1  Read the following texts and table with financ...  \n2  Read the following texts and table with financ...  \n3  Read the following texts and table with financ...  \n4  Read the following texts and table with financ...  "
          },
          "metadata": {}
        }
      ],
      "execution_count": 19,
      "metadata": {},
      "id": "08a73c5e"
    },
    {
      "cell_type": "code",
      "source": [
        "def format_with_cot(row):\n",
        "    return {\n",
        "        \"instruction\": \"Answer the question using step-by-step reasoning.\",\n",
        "        \"input\": f\"{row['instruction']}\\n\\n{row['input']}\".strip(),\n",
        "        \"output\": f\"Let's think step by step.\\nAnswer: {row['output']}\"\n",
        "    }\n",
        "\n",
        "formatted = dataset.apply(format_with_cot, axis=1, result_type='expand')\n",
        "\n",
        "\n",
        "print(formatted.iloc[0])\n",
        "\n"
      ],
      "outputs": [
        {
          "output_type": "stream",
          "name": "stdout",
          "text": "instruction    Answer the financial question using step-by-st...\ninput          Read the following texts and table with financ...\noutput                  Let's think step by step.\\nAnswer: 60.94\nName: 0, dtype: object\n"
        }
      ],
      "execution_count": 10,
      "metadata": {},
      "id": "159a13ba"
    }
  ],
  "metadata": {
    "kernelspec": {
      "name": "python310-sdkv2",
      "language": "python",
      "display_name": "Python 3.10 - SDK v2"
    },
    "language_info": {
      "name": "python",
      "version": "3.10.14",
      "mimetype": "text/x-python",
      "codemirror_mode": {
        "name": "ipython",
        "version": 3
      },
      "pygments_lexer": "ipython3",
      "nbconvert_exporter": "python",
      "file_extension": ".py"
    },
    "microsoft": {
      "ms_spell_check": {
        "ms_spell_check_language": "en"
      }
    },
    "kernel_info": {
      "name": "python310-sdkv2"
    },
    "nteract": {
      "version": "nteract-front-end@1.0.0"
    }
  },
  "nbformat": 4,
  "nbformat_minor": 5
}