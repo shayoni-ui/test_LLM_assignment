{
  "cells": [
    {
      "cell_type": "code",
      "execution_count": 0,
      "metadata": {
        "application/vnd.databricks.v1+cell": {
          "cellMetadata": {
            "byteLimit": 2048000,
            "rowLimit": 10000
          },
          "inputWidgets": {},
          "nuid": "4968d7fd-151f-4782-aa54-95ce10ddb42c",
          "showTitle": false,
          "tableResultSettingsMap": {},
          "title": ""
        }
      },
      "outputs": [],
      "source": [
        "# Run the all the agents notebook to initiate the my_agent_function. Only the one selected\n",
        "# in cofig variable AGENT_FRAMEWORK will be run and the rest will be skipped"
      ]
    },
    {
      "cell_type": "code",
      "execution_count": null,
      "metadata": {
        "application/vnd.databricks.v1+cell": {
          "cellMetadata": {
            "byteLimit": 2048000,
            "rowLimit": 10000
          },
          "inputWidgets": {},
          "nuid": "601a1390-ec65-4029-bc3f-215c98fc5fb3",
          "showTitle": false,
          "tableResultSettingsMap": {},
          "title": ""
        }
      },
      "outputs": [],
      "source": [
        "%run \"./agents/agent_langchain.ipynb\""
      ]
    },
    {
      "cell_type": "code",
      "execution_count": null,
      "metadata": {},
      "outputs": [],
      "source": [
        "%pip install --upgrade numpy pandas scikit-learn"
      ]
    },
    {
      "cell_type": "code",
      "execution_count": 4,
      "metadata": {},
      "outputs": [
        {
          "name": "stdout",
          "output_type": "stream",
          "text": [
            "\u001b[33mWARNING: Skipping mlflow as it is not installed.\u001b[0m\u001b[33m\n",
            "\u001b[0m\u001b[33mWARNING: Skipping mlflow-genai as it is not installed.\u001b[0m\u001b[33m\n",
            "\u001b[0mNote: you may need to restart the kernel to use updated packages.\n",
            "Collecting mlflow==2.13.0\n",
            "  Downloading mlflow-2.13.0-py3-none-any.whl.metadata (29 kB)\n",
            "Requirement already satisfied: Flask<4 in /anaconda/envs/azureml_py310_sdkv2/lib/python3.10/site-packages (from mlflow==2.13.0) (3.0.3)\n",
            "Requirement already satisfied: alembic!=1.10.0,<2 in /anaconda/envs/azureml_py310_sdkv2/lib/python3.10/site-packages (from mlflow==2.13.0) (1.13.2)\n",
            "Requirement already satisfied: cachetools<6,>=5.0.0 in /anaconda/envs/azureml_py310_sdkv2/lib/python3.10/site-packages (from mlflow==2.13.0) (5.5.0)\n",
            "Requirement already satisfied: click<9,>=7.0 in /anaconda/envs/azureml_py310_sdkv2/lib/python3.10/site-packages (from mlflow==2.13.0) (8.1.7)\n",
            "Requirement already satisfied: cloudpickle<4 in /anaconda/envs/azureml_py310_sdkv2/lib/python3.10/site-packages (from mlflow==2.13.0) (2.2.1)\n",
            "Requirement already satisfied: docker<8,>=4.0.0 in /anaconda/envs/azureml_py310_sdkv2/lib/python3.10/site-packages (from mlflow==2.13.0) (7.1.0)\n",
            "Requirement already satisfied: entrypoints<1 in /anaconda/envs/azureml_py310_sdkv2/lib/python3.10/site-packages (from mlflow==2.13.0) (0.4)\n",
            "Requirement already satisfied: gitpython<4,>=3.1.9 in /anaconda/envs/azureml_py310_sdkv2/lib/python3.10/site-packages (from mlflow==2.13.0) (3.1.43)\n",
            "Requirement already satisfied: graphene<4 in /anaconda/envs/azureml_py310_sdkv2/lib/python3.10/site-packages (from mlflow==2.13.0) (3.3)\n",
            "Requirement already satisfied: importlib-metadata!=4.7.0,<8,>=3.7.0 in /anaconda/envs/azureml_py310_sdkv2/lib/python3.10/site-packages (from mlflow==2.13.0) (7.2.1)\n",
            "Requirement already satisfied: markdown<4,>=3.3 in /anaconda/envs/azureml_py310_sdkv2/lib/python3.10/site-packages (from mlflow==2.13.0) (3.7)\n",
            "Requirement already satisfied: matplotlib<4 in /anaconda/envs/azureml_py310_sdkv2/lib/python3.10/site-packages (from mlflow==2.13.0) (3.9.2)\n",
            "Requirement already satisfied: numpy<2 in /anaconda/envs/azureml_py310_sdkv2/lib/python3.10/site-packages (from mlflow==2.13.0) (1.26.4)\n",
            "Requirement already satisfied: opentelemetry-api<3,>=1.0.0 in /anaconda/envs/azureml_py310_sdkv2/lib/python3.10/site-packages (from mlflow==2.13.0) (1.27.0)\n",
            "Requirement already satisfied: opentelemetry-sdk<3,>=1.0.0 in /anaconda/envs/azureml_py310_sdkv2/lib/python3.10/site-packages (from mlflow==2.13.0) (1.27.0)\n",
            "Requirement already satisfied: packaging<25 in /anaconda/envs/azureml_py310_sdkv2/lib/python3.10/site-packages (from mlflow==2.13.0) (24.1)\n",
            "Requirement already satisfied: pandas<3 in /anaconda/envs/azureml_py310_sdkv2/lib/python3.10/site-packages (from mlflow==2.13.0) (2.2.3)\n",
            "Collecting protobuf<5,>=3.12.0 (from mlflow==2.13.0)\n",
            "  Downloading protobuf-4.25.7-cp37-abi3-manylinux2014_x86_64.whl.metadata (541 bytes)\n",
            "Requirement already satisfied: pyarrow<16,>=4.0.0 in /anaconda/envs/azureml_py310_sdkv2/lib/python3.10/site-packages (from mlflow==2.13.0) (15.0.2)\n",
            "Requirement already satisfied: pytz<2025 in /anaconda/envs/azureml_py310_sdkv2/lib/python3.10/site-packages (from mlflow==2.13.0) (2024.2)\n",
            "Requirement already satisfied: pyyaml<7,>=5.1 in /anaconda/envs/azureml_py310_sdkv2/lib/python3.10/site-packages (from mlflow==2.13.0) (6.0.2)\n",
            "Requirement already satisfied: querystring-parser<2 in /anaconda/envs/azureml_py310_sdkv2/lib/python3.10/site-packages (from mlflow==2.13.0) (1.2.4)\n",
            "Requirement already satisfied: requests<3,>=2.17.3 in /anaconda/envs/azureml_py310_sdkv2/lib/python3.10/site-packages (from mlflow==2.13.0) (2.32.3)\n",
            "Requirement already satisfied: scikit-learn<2 in /anaconda/envs/azureml_py310_sdkv2/lib/python3.10/site-packages (from mlflow==2.13.0) (1.6.1)\n",
            "Requirement already satisfied: scipy<2 in /anaconda/envs/azureml_py310_sdkv2/lib/python3.10/site-packages (from mlflow==2.13.0) (1.14.1)\n",
            "Requirement already satisfied: sqlalchemy<3,>=1.4.0 in /anaconda/envs/azureml_py310_sdkv2/lib/python3.10/site-packages (from mlflow==2.13.0) (2.0.35)\n",
            "Requirement already satisfied: sqlparse<1,>=0.4.0 in /anaconda/envs/azureml_py310_sdkv2/lib/python3.10/site-packages (from mlflow==2.13.0) (0.5.1)\n",
            "Requirement already satisfied: Jinja2<4,>=2.11 in /anaconda/envs/azureml_py310_sdkv2/lib/python3.10/site-packages (from mlflow==2.13.0) (3.1.4)\n",
            "Requirement already satisfied: gunicorn<23 in /anaconda/envs/azureml_py310_sdkv2/lib/python3.10/site-packages (from mlflow==2.13.0) (21.2.0)\n",
            "Requirement already satisfied: Mako in /anaconda/envs/azureml_py310_sdkv2/lib/python3.10/site-packages (from alembic!=1.10.0,<2->mlflow==2.13.0) (1.3.5)\n",
            "Requirement already satisfied: typing-extensions>=4 in /anaconda/envs/azureml_py310_sdkv2/lib/python3.10/site-packages (from alembic!=1.10.0,<2->mlflow==2.13.0) (4.12.2)\n",
            "Requirement already satisfied: urllib3>=1.26.0 in /anaconda/envs/azureml_py310_sdkv2/lib/python3.10/site-packages (from docker<8,>=4.0.0->mlflow==2.13.0) (2.2.3)\n",
            "Requirement already satisfied: Werkzeug>=3.0.0 in /anaconda/envs/azureml_py310_sdkv2/lib/python3.10/site-packages (from Flask<4->mlflow==2.13.0) (3.0.4)\n",
            "Requirement already satisfied: itsdangerous>=2.1.2 in /anaconda/envs/azureml_py310_sdkv2/lib/python3.10/site-packages (from Flask<4->mlflow==2.13.0) (2.2.0)\n",
            "Requirement already satisfied: blinker>=1.6.2 in /anaconda/envs/azureml_py310_sdkv2/lib/python3.10/site-packages (from Flask<4->mlflow==2.13.0) (1.8.2)\n",
            "Requirement already satisfied: gitdb<5,>=4.0.1 in /anaconda/envs/azureml_py310_sdkv2/lib/python3.10/site-packages (from gitpython<4,>=3.1.9->mlflow==2.13.0) (4.0.11)\n",
            "Requirement already satisfied: graphql-core<3.3,>=3.1 in /anaconda/envs/azureml_py310_sdkv2/lib/python3.10/site-packages (from graphene<4->mlflow==2.13.0) (3.2.4)\n",
            "Requirement already satisfied: graphql-relay<3.3,>=3.1 in /anaconda/envs/azureml_py310_sdkv2/lib/python3.10/site-packages (from graphene<4->mlflow==2.13.0) (3.2.0)\n",
            "Requirement already satisfied: aniso8601<10,>=8 in /anaconda/envs/azureml_py310_sdkv2/lib/python3.10/site-packages (from graphene<4->mlflow==2.13.0) (9.0.1)\n",
            "Requirement already satisfied: zipp>=0.5 in /anaconda/envs/azureml_py310_sdkv2/lib/python3.10/site-packages (from importlib-metadata!=4.7.0,<8,>=3.7.0->mlflow==2.13.0) (3.20.2)\n",
            "Requirement already satisfied: MarkupSafe>=2.0 in /anaconda/envs/azureml_py310_sdkv2/lib/python3.10/site-packages (from Jinja2<4,>=2.11->mlflow==2.13.0) (2.1.5)\n",
            "Requirement already satisfied: contourpy>=1.0.1 in /anaconda/envs/azureml_py310_sdkv2/lib/python3.10/site-packages (from matplotlib<4->mlflow==2.13.0) (1.3.0)\n",
            "Requirement already satisfied: cycler>=0.10 in /anaconda/envs/azureml_py310_sdkv2/lib/python3.10/site-packages (from matplotlib<4->mlflow==2.13.0) (0.12.1)\n",
            "Requirement already satisfied: fonttools>=4.22.0 in /anaconda/envs/azureml_py310_sdkv2/lib/python3.10/site-packages (from matplotlib<4->mlflow==2.13.0) (4.53.1)\n",
            "Requirement already satisfied: kiwisolver>=1.3.1 in /anaconda/envs/azureml_py310_sdkv2/lib/python3.10/site-packages (from matplotlib<4->mlflow==2.13.0) (1.4.7)\n",
            "Requirement already satisfied: pillow>=8 in /anaconda/envs/azureml_py310_sdkv2/lib/python3.10/site-packages (from matplotlib<4->mlflow==2.13.0) (10.4.0)\n",
            "Requirement already satisfied: pyparsing>=2.3.1 in /anaconda/envs/azureml_py310_sdkv2/lib/python3.10/site-packages (from matplotlib<4->mlflow==2.13.0) (3.1.4)\n",
            "Requirement already satisfied: python-dateutil>=2.7 in /anaconda/envs/azureml_py310_sdkv2/lib/python3.10/site-packages (from matplotlib<4->mlflow==2.13.0) (2.9.0)\n",
            "Requirement already satisfied: deprecated>=1.2.6 in /anaconda/envs/azureml_py310_sdkv2/lib/python3.10/site-packages (from opentelemetry-api<3,>=1.0.0->mlflow==2.13.0) (1.2.14)\n",
            "Requirement already satisfied: opentelemetry-semantic-conventions==0.48b0 in /anaconda/envs/azureml_py310_sdkv2/lib/python3.10/site-packages (from opentelemetry-sdk<3,>=1.0.0->mlflow==2.13.0) (0.48b0)\n",
            "Requirement already satisfied: tzdata>=2022.7 in /anaconda/envs/azureml_py310_sdkv2/lib/python3.10/site-packages (from pandas<3->mlflow==2.13.0) (2024.1)\n",
            "Requirement already satisfied: six in /anaconda/envs/azureml_py310_sdkv2/lib/python3.10/site-packages (from querystring-parser<2->mlflow==2.13.0) (1.16.0)\n",
            "Requirement already satisfied: charset-normalizer<4,>=2 in /anaconda/envs/azureml_py310_sdkv2/lib/python3.10/site-packages (from requests<3,>=2.17.3->mlflow==2.13.0) (3.3.2)\n",
            "Requirement already satisfied: idna<4,>=2.5 in /anaconda/envs/azureml_py310_sdkv2/lib/python3.10/site-packages (from requests<3,>=2.17.3->mlflow==2.13.0) (3.10)\n",
            "Requirement already satisfied: certifi>=2017.4.17 in /anaconda/envs/azureml_py310_sdkv2/lib/python3.10/site-packages (from requests<3,>=2.17.3->mlflow==2.13.0) (2024.8.30)\n",
            "Requirement already satisfied: joblib>=1.2.0 in /anaconda/envs/azureml_py310_sdkv2/lib/python3.10/site-packages (from scikit-learn<2->mlflow==2.13.0) (1.4.2)\n",
            "Requirement already satisfied: threadpoolctl>=3.1.0 in /anaconda/envs/azureml_py310_sdkv2/lib/python3.10/site-packages (from scikit-learn<2->mlflow==2.13.0) (3.5.0)\n",
            "Requirement already satisfied: greenlet!=0.4.17 in /anaconda/envs/azureml_py310_sdkv2/lib/python3.10/site-packages (from sqlalchemy<3,>=1.4.0->mlflow==2.13.0) (3.1.1)\n",
            "Requirement already satisfied: wrapt<2,>=1.10 in /anaconda/envs/azureml_py310_sdkv2/lib/python3.10/site-packages (from deprecated>=1.2.6->opentelemetry-api<3,>=1.0.0->mlflow==2.13.0) (1.16.0)\n",
            "Requirement already satisfied: smmap<6,>=3.0.1 in /anaconda/envs/azureml_py310_sdkv2/lib/python3.10/site-packages (from gitdb<5,>=4.0.1->gitpython<4,>=3.1.9->mlflow==2.13.0) (5.0.1)\n",
            "Downloading mlflow-2.13.0-py3-none-any.whl (25.0 MB)\n",
            "\u001b[2K   \u001b[90m━━━━━━━━━━━━━━━━━━━━━━━━━━━━━━━━━━━━━━━━\u001b[0m \u001b[32m25.0/25.0 MB\u001b[0m \u001b[31m133.9 MB/s\u001b[0m eta \u001b[36m0:00:00\u001b[0m\n",
            "\u001b[?25hDownloading protobuf-4.25.7-cp37-abi3-manylinux2014_x86_64.whl (294 kB)\n",
            "Installing collected packages: protobuf, mlflow\n",
            "  Attempting uninstall: protobuf\n",
            "    Found existing installation: protobuf 5.28.2\n",
            "    Uninstalling protobuf-5.28.2:\n",
            "      Successfully uninstalled protobuf-5.28.2\n",
            "Successfully installed mlflow-2.13.0 protobuf-4.25.7\n",
            "Note: you may need to restart the kernel to use updated packages.\n"
          ]
        }
      ],
      "source": [
        "%pip uninstall mlflow mlflow-genai -y\n",
        "%pip install mlflow==2.13.0\n",
        "#%pip install mlflow[genai]  # or, alternatively: pip install mlflow==2.12.1 mlflow-genai\n",
        "\n"
      ]
    },
    {
      "cell_type": "code",
      "execution_count": 73,
      "metadata": {},
      "outputs": [
        {
          "name": "stdout",
          "output_type": "stream",
          "text": [
            "MLflow version: 2.13.0\n",
            "['EvaluationArtifact', 'EvaluationMetric', 'EvaluationResult', 'FlavorBackend', 'MetricThreshold', 'Model', 'ModelConfig', 'ModelInputExample', 'ModelSignature', 'Resource', 'ResourceType', '__all__', '__builtins__', '__cached__', '__doc__', '__file__', '__loader__', '__name__', '__package__', '__path__', '__spec__', 'add_libraries_to_model', 'build_docker', 'dependencies_schema', 'evaluate', 'evaluation', 'flavor_backend', 'flavor_backend_registry', 'get_model_info', 'infer_pip_requirements', 'infer_signature', 'list_evaluators', 'make_metric', 'model', 'model_config', 'predict', 'python_api', 'resources', 'set_model', 'set_retriever_schema', 'set_signature', 'signature', 'utils', 'validate_schema']\n"
          ]
        }
      ],
      "source": [
        "import mlflow\n",
        "print(\"MLflow version:\", mlflow.__version__)\n",
        "import mlflow.models as models\n",
        "print(dir(models))"
      ]
    },
    {
      "cell_type": "code",
      "execution_count": 9,
      "metadata": {},
      "outputs": [
        {
          "name": "stdout",
          "output_type": "stream",
          "text": [
            "Requirement already satisfied: mlflow[genai] in /anaconda/envs/azureml_py310_sdkv2/lib/python3.10/site-packages (2.12.1)\n",
            "Requirement already satisfied: Flask<4 in /anaconda/envs/azureml_py310_sdkv2/lib/python3.10/site-packages (from mlflow[genai]) (3.0.3)\n",
            "Requirement already satisfied: alembic!=1.10.0,<2 in /anaconda/envs/azureml_py310_sdkv2/lib/python3.10/site-packages (from mlflow[genai]) (1.13.2)\n",
            "Requirement already satisfied: click<9,>=7.0 in /anaconda/envs/azureml_py310_sdkv2/lib/python3.10/site-packages (from mlflow[genai]) (8.1.7)\n",
            "Requirement already satisfied: cloudpickle<4 in /anaconda/envs/azureml_py310_sdkv2/lib/python3.10/site-packages (from mlflow[genai]) (2.2.1)\n",
            "Requirement already satisfied: docker<8,>=4.0.0 in /anaconda/envs/azureml_py310_sdkv2/lib/python3.10/site-packages (from mlflow[genai]) (7.1.0)\n",
            "Requirement already satisfied: entrypoints<1 in /anaconda/envs/azureml_py310_sdkv2/lib/python3.10/site-packages (from mlflow[genai]) (0.4)\n",
            "Requirement already satisfied: gitpython<4,>=3.1.9 in /anaconda/envs/azureml_py310_sdkv2/lib/python3.10/site-packages (from mlflow[genai]) (3.1.43)\n",
            "Requirement already satisfied: graphene<4 in /anaconda/envs/azureml_py310_sdkv2/lib/python3.10/site-packages (from mlflow[genai]) (3.3)\n",
            "Requirement already satisfied: importlib-metadata!=4.7.0,<8,>=3.7.0 in /anaconda/envs/azureml_py310_sdkv2/lib/python3.10/site-packages (from mlflow[genai]) (7.2.1)\n",
            "Requirement already satisfied: markdown<4,>=3.3 in /anaconda/envs/azureml_py310_sdkv2/lib/python3.10/site-packages (from mlflow[genai]) (3.7)\n",
            "Requirement already satisfied: matplotlib<4 in /anaconda/envs/azureml_py310_sdkv2/lib/python3.10/site-packages (from mlflow[genai]) (3.9.2)\n",
            "Requirement already satisfied: numpy<2 in /anaconda/envs/azureml_py310_sdkv2/lib/python3.10/site-packages (from mlflow[genai]) (1.26.4)\n",
            "Requirement already satisfied: packaging<25 in /anaconda/envs/azureml_py310_sdkv2/lib/python3.10/site-packages (from mlflow[genai]) (24.1)\n",
            "Requirement already satisfied: pandas<3 in /anaconda/envs/azureml_py310_sdkv2/lib/python3.10/site-packages (from mlflow[genai]) (2.2.3)\n",
            "Requirement already satisfied: protobuf<6,>=3.12.0 in /anaconda/envs/azureml_py310_sdkv2/lib/python3.10/site-packages (from mlflow[genai]) (5.28.2)\n",
            "Requirement already satisfied: pyarrow<16,>=4.0.0 in /anaconda/envs/azureml_py310_sdkv2/lib/python3.10/site-packages (from mlflow[genai]) (15.0.2)\n",
            "Requirement already satisfied: pytz<2025 in /anaconda/envs/azureml_py310_sdkv2/lib/python3.10/site-packages (from mlflow[genai]) (2024.2)\n",
            "Requirement already satisfied: pyyaml<7,>=5.1 in /anaconda/envs/azureml_py310_sdkv2/lib/python3.10/site-packages (from mlflow[genai]) (6.0.2)\n",
            "Requirement already satisfied: querystring-parser<2 in /anaconda/envs/azureml_py310_sdkv2/lib/python3.10/site-packages (from mlflow[genai]) (1.2.4)\n",
            "Requirement already satisfied: requests<3,>=2.17.3 in /anaconda/envs/azureml_py310_sdkv2/lib/python3.10/site-packages (from mlflow[genai]) (2.32.3)\n",
            "Requirement already satisfied: scikit-learn<2 in /anaconda/envs/azureml_py310_sdkv2/lib/python3.10/site-packages (from mlflow[genai]) (1.6.1)\n",
            "Requirement already satisfied: scipy<2 in /anaconda/envs/azureml_py310_sdkv2/lib/python3.10/site-packages (from mlflow[genai]) (1.14.1)\n",
            "Requirement already satisfied: sqlalchemy<3,>=1.4.0 in /anaconda/envs/azureml_py310_sdkv2/lib/python3.10/site-packages (from mlflow[genai]) (2.0.35)\n",
            "Requirement already satisfied: sqlparse<1,>=0.4.0 in /anaconda/envs/azureml_py310_sdkv2/lib/python3.10/site-packages (from mlflow[genai]) (0.5.1)\n",
            "Requirement already satisfied: Jinja2<4,>=2.11 in /anaconda/envs/azureml_py310_sdkv2/lib/python3.10/site-packages (from mlflow[genai]) (3.1.4)\n",
            "Requirement already satisfied: gunicorn<22 in /anaconda/envs/azureml_py310_sdkv2/lib/python3.10/site-packages (from mlflow[genai]) (21.2.0)\n",
            "Requirement already satisfied: pydantic<3,>=1.0 in /anaconda/envs/azureml_py310_sdkv2/lib/python3.10/site-packages (from mlflow[genai]) (2.11.4)\n",
            "Collecting fastapi<1 (from mlflow[genai])\n",
            "  Downloading fastapi-0.115.12-py3-none-any.whl.metadata (27 kB)\n",
            "Collecting uvicorn<1 (from uvicorn[standard]<1; extra == \"genai\"->mlflow[genai])\n",
            "  Downloading uvicorn-0.34.2-py3-none-any.whl.metadata (6.5 kB)\n",
            "Collecting watchfiles<1 (from mlflow[genai])\n",
            "  Downloading watchfiles-0.24.0-cp310-cp310-manylinux_2_17_x86_64.manylinux2014_x86_64.whl.metadata (4.9 kB)\n",
            "Requirement already satisfied: aiohttp<4 in /anaconda/envs/azureml_py310_sdkv2/lib/python3.10/site-packages (from mlflow[genai]) (3.11.18)\n",
            "Collecting boto3<2,>=1.28.56 (from mlflow[genai])\n",
            "  Downloading boto3-1.38.20-py3-none-any.whl.metadata (6.6 kB)\n",
            "Requirement already satisfied: tiktoken<1 in /anaconda/envs/azureml_py310_sdkv2/lib/python3.10/site-packages (from mlflow[genai]) (0.9.0)\n",
            "Collecting slowapi<1,>=0.1.9 (from mlflow[genai])\n",
            "  Downloading slowapi-0.1.9-py3-none-any.whl.metadata (3.0 kB)\n",
            "Requirement already satisfied: aiohappyeyeballs>=2.3.0 in /anaconda/envs/azureml_py310_sdkv2/lib/python3.10/site-packages (from aiohttp<4->mlflow[genai]) (2.6.1)\n",
            "Requirement already satisfied: aiosignal>=1.1.2 in /anaconda/envs/azureml_py310_sdkv2/lib/python3.10/site-packages (from aiohttp<4->mlflow[genai]) (1.3.1)\n",
            "Requirement already satisfied: async-timeout<6.0,>=4.0 in /anaconda/envs/azureml_py310_sdkv2/lib/python3.10/site-packages (from aiohttp<4->mlflow[genai]) (4.0.3)\n",
            "Requirement already satisfied: attrs>=17.3.0 in /anaconda/envs/azureml_py310_sdkv2/lib/python3.10/site-packages (from aiohttp<4->mlflow[genai]) (24.2.0)\n",
            "Requirement already satisfied: frozenlist>=1.1.1 in /anaconda/envs/azureml_py310_sdkv2/lib/python3.10/site-packages (from aiohttp<4->mlflow[genai]) (1.4.1)\n",
            "Requirement already satisfied: multidict<7.0,>=4.5 in /anaconda/envs/azureml_py310_sdkv2/lib/python3.10/site-packages (from aiohttp<4->mlflow[genai]) (6.4.4)\n",
            "Requirement already satisfied: propcache>=0.2.0 in /anaconda/envs/azureml_py310_sdkv2/lib/python3.10/site-packages (from aiohttp<4->mlflow[genai]) (0.3.1)\n",
            "Requirement already satisfied: yarl<2.0,>=1.17.0 in /anaconda/envs/azureml_py310_sdkv2/lib/python3.10/site-packages (from aiohttp<4->mlflow[genai]) (1.20.0)\n",
            "Requirement already satisfied: Mako in /anaconda/envs/azureml_py310_sdkv2/lib/python3.10/site-packages (from alembic!=1.10.0,<2->mlflow[genai]) (1.3.5)\n",
            "Requirement already satisfied: typing-extensions>=4 in /anaconda/envs/azureml_py310_sdkv2/lib/python3.10/site-packages (from alembic!=1.10.0,<2->mlflow[genai]) (4.12.2)\n",
            "Collecting botocore<1.39.0,>=1.38.20 (from boto3<2,>=1.28.56->mlflow[genai])\n",
            "  Downloading botocore-1.38.20-py3-none-any.whl.metadata (5.7 kB)\n",
            "Requirement already satisfied: jmespath<2.0.0,>=0.7.1 in /anaconda/envs/azureml_py310_sdkv2/lib/python3.10/site-packages (from boto3<2,>=1.28.56->mlflow[genai]) (1.0.1)\n",
            "Collecting s3transfer<0.13.0,>=0.12.0 (from boto3<2,>=1.28.56->mlflow[genai])\n",
            "  Downloading s3transfer-0.12.0-py3-none-any.whl.metadata (1.7 kB)\n",
            "Requirement already satisfied: urllib3>=1.26.0 in /anaconda/envs/azureml_py310_sdkv2/lib/python3.10/site-packages (from docker<8,>=4.0.0->mlflow[genai]) (2.2.3)\n",
            "Collecting starlette<0.47.0,>=0.40.0 (from fastapi<1->mlflow[genai])\n",
            "  Downloading starlette-0.46.2-py3-none-any.whl.metadata (6.2 kB)\n",
            "Requirement already satisfied: Werkzeug>=3.0.0 in /anaconda/envs/azureml_py310_sdkv2/lib/python3.10/site-packages (from Flask<4->mlflow[genai]) (3.0.4)\n",
            "Requirement already satisfied: itsdangerous>=2.1.2 in /anaconda/envs/azureml_py310_sdkv2/lib/python3.10/site-packages (from Flask<4->mlflow[genai]) (2.2.0)\n",
            "Requirement already satisfied: blinker>=1.6.2 in /anaconda/envs/azureml_py310_sdkv2/lib/python3.10/site-packages (from Flask<4->mlflow[genai]) (1.8.2)\n",
            "Requirement already satisfied: gitdb<5,>=4.0.1 in /anaconda/envs/azureml_py310_sdkv2/lib/python3.10/site-packages (from gitpython<4,>=3.1.9->mlflow[genai]) (4.0.11)\n",
            "Requirement already satisfied: graphql-core<3.3,>=3.1 in /anaconda/envs/azureml_py310_sdkv2/lib/python3.10/site-packages (from graphene<4->mlflow[genai]) (3.2.4)\n",
            "Requirement already satisfied: graphql-relay<3.3,>=3.1 in /anaconda/envs/azureml_py310_sdkv2/lib/python3.10/site-packages (from graphene<4->mlflow[genai]) (3.2.0)\n",
            "Requirement already satisfied: aniso8601<10,>=8 in /anaconda/envs/azureml_py310_sdkv2/lib/python3.10/site-packages (from graphene<4->mlflow[genai]) (9.0.1)\n",
            "Requirement already satisfied: zipp>=0.5 in /anaconda/envs/azureml_py310_sdkv2/lib/python3.10/site-packages (from importlib-metadata!=4.7.0,<8,>=3.7.0->mlflow[genai]) (3.20.2)\n",
            "Requirement already satisfied: MarkupSafe>=2.0 in /anaconda/envs/azureml_py310_sdkv2/lib/python3.10/site-packages (from Jinja2<4,>=2.11->mlflow[genai]) (2.1.5)\n",
            "Requirement already satisfied: contourpy>=1.0.1 in /anaconda/envs/azureml_py310_sdkv2/lib/python3.10/site-packages (from matplotlib<4->mlflow[genai]) (1.3.0)\n",
            "Requirement already satisfied: cycler>=0.10 in /anaconda/envs/azureml_py310_sdkv2/lib/python3.10/site-packages (from matplotlib<4->mlflow[genai]) (0.12.1)\n",
            "Requirement already satisfied: fonttools>=4.22.0 in /anaconda/envs/azureml_py310_sdkv2/lib/python3.10/site-packages (from matplotlib<4->mlflow[genai]) (4.53.1)\n",
            "Requirement already satisfied: kiwisolver>=1.3.1 in /anaconda/envs/azureml_py310_sdkv2/lib/python3.10/site-packages (from matplotlib<4->mlflow[genai]) (1.4.7)\n",
            "Requirement already satisfied: pillow>=8 in /anaconda/envs/azureml_py310_sdkv2/lib/python3.10/site-packages (from matplotlib<4->mlflow[genai]) (10.4.0)\n",
            "Requirement already satisfied: pyparsing>=2.3.1 in /anaconda/envs/azureml_py310_sdkv2/lib/python3.10/site-packages (from matplotlib<4->mlflow[genai]) (3.1.4)\n",
            "Requirement already satisfied: python-dateutil>=2.7 in /anaconda/envs/azureml_py310_sdkv2/lib/python3.10/site-packages (from matplotlib<4->mlflow[genai]) (2.9.0)\n",
            "Requirement already satisfied: tzdata>=2022.7 in /anaconda/envs/azureml_py310_sdkv2/lib/python3.10/site-packages (from pandas<3->mlflow[genai]) (2024.1)\n",
            "Requirement already satisfied: annotated-types>=0.6.0 in /anaconda/envs/azureml_py310_sdkv2/lib/python3.10/site-packages (from pydantic<3,>=1.0->mlflow[genai]) (0.7.0)\n",
            "Requirement already satisfied: pydantic-core==2.33.2 in /anaconda/envs/azureml_py310_sdkv2/lib/python3.10/site-packages (from pydantic<3,>=1.0->mlflow[genai]) (2.33.2)\n",
            "Requirement already satisfied: typing-inspection>=0.4.0 in /anaconda/envs/azureml_py310_sdkv2/lib/python3.10/site-packages (from pydantic<3,>=1.0->mlflow[genai]) (0.4.0)\n",
            "Requirement already satisfied: six in /anaconda/envs/azureml_py310_sdkv2/lib/python3.10/site-packages (from querystring-parser<2->mlflow[genai]) (1.16.0)\n",
            "Requirement already satisfied: charset-normalizer<4,>=2 in /anaconda/envs/azureml_py310_sdkv2/lib/python3.10/site-packages (from requests<3,>=2.17.3->mlflow[genai]) (3.3.2)\n",
            "Requirement already satisfied: idna<4,>=2.5 in /anaconda/envs/azureml_py310_sdkv2/lib/python3.10/site-packages (from requests<3,>=2.17.3->mlflow[genai]) (3.10)\n",
            "Requirement already satisfied: certifi>=2017.4.17 in /anaconda/envs/azureml_py310_sdkv2/lib/python3.10/site-packages (from requests<3,>=2.17.3->mlflow[genai]) (2024.8.30)\n",
            "Requirement already satisfied: joblib>=1.2.0 in /anaconda/envs/azureml_py310_sdkv2/lib/python3.10/site-packages (from scikit-learn<2->mlflow[genai]) (1.4.2)\n",
            "Requirement already satisfied: threadpoolctl>=3.1.0 in /anaconda/envs/azureml_py310_sdkv2/lib/python3.10/site-packages (from scikit-learn<2->mlflow[genai]) (3.5.0)\n",
            "Collecting limits>=2.3 (from slowapi<1,>=0.1.9->mlflow[genai])\n",
            "  Downloading limits-5.2.0-py3-none-any.whl.metadata (10 kB)\n",
            "Requirement already satisfied: greenlet!=0.4.17 in /anaconda/envs/azureml_py310_sdkv2/lib/python3.10/site-packages (from sqlalchemy<3,>=1.4.0->mlflow[genai]) (3.1.1)\n",
            "Requirement already satisfied: regex>=2022.1.18 in /anaconda/envs/azureml_py310_sdkv2/lib/python3.10/site-packages (from tiktoken<1->mlflow[genai]) (2024.11.6)\n",
            "Requirement already satisfied: h11>=0.8 in /anaconda/envs/azureml_py310_sdkv2/lib/python3.10/site-packages (from uvicorn<1->uvicorn[standard]<1; extra == \"genai\"->mlflow[genai]) (0.16.0)\n",
            "Collecting httptools>=0.6.3 (from uvicorn[standard]<1; extra == \"genai\"->mlflow[genai])\n",
            "  Downloading httptools-0.6.4-cp310-cp310-manylinux_2_5_x86_64.manylinux1_x86_64.manylinux_2_17_x86_64.manylinux2014_x86_64.whl.metadata (3.6 kB)\n",
            "Requirement already satisfied: python-dotenv>=0.13 in /anaconda/envs/azureml_py310_sdkv2/lib/python3.10/site-packages (from uvicorn[standard]<1; extra == \"genai\"->mlflow[genai]) (1.1.0)\n",
            "Collecting uvloop!=0.15.0,!=0.15.1,>=0.14.0 (from uvicorn[standard]<1; extra == \"genai\"->mlflow[genai])\n",
            "  Downloading uvloop-0.21.0-cp310-cp310-manylinux_2_17_x86_64.manylinux2014_x86_64.whl.metadata (4.9 kB)\n",
            "Collecting websockets>=10.4 (from uvicorn[standard]<1; extra == \"genai\"->mlflow[genai])\n",
            "  Downloading websockets-15.0.1-cp310-cp310-manylinux_2_5_x86_64.manylinux1_x86_64.manylinux_2_17_x86_64.manylinux2014_x86_64.whl.metadata (6.8 kB)\n",
            "Requirement already satisfied: anyio>=3.0.0 in /anaconda/envs/azureml_py310_sdkv2/lib/python3.10/site-packages (from watchfiles<1->mlflow[genai]) (4.9.0)\n",
            "Requirement already satisfied: exceptiongroup>=1.0.2 in /anaconda/envs/azureml_py310_sdkv2/lib/python3.10/site-packages (from anyio>=3.0.0->watchfiles<1->mlflow[genai]) (1.2.2)\n",
            "Requirement already satisfied: sniffio>=1.1 in /anaconda/envs/azureml_py310_sdkv2/lib/python3.10/site-packages (from anyio>=3.0.0->watchfiles<1->mlflow[genai]) (1.3.1)\n",
            "Requirement already satisfied: smmap<6,>=3.0.1 in /anaconda/envs/azureml_py310_sdkv2/lib/python3.10/site-packages (from gitdb<5,>=4.0.1->gitpython<4,>=3.1.9->mlflow[genai]) (5.0.1)\n",
            "Requirement already satisfied: deprecated>=1.2 in /anaconda/envs/azureml_py310_sdkv2/lib/python3.10/site-packages (from limits>=2.3->slowapi<1,>=0.1.9->mlflow[genai]) (1.2.14)\n",
            "Requirement already satisfied: wrapt<2,>=1.10 in /anaconda/envs/azureml_py310_sdkv2/lib/python3.10/site-packages (from deprecated>=1.2->limits>=2.3->slowapi<1,>=0.1.9->mlflow[genai]) (1.16.0)\n",
            "Downloading boto3-1.38.20-py3-none-any.whl (139 kB)\n",
            "Downloading fastapi-0.115.12-py3-none-any.whl (95 kB)\n",
            "Downloading slowapi-0.1.9-py3-none-any.whl (14 kB)\n",
            "Downloading uvicorn-0.34.2-py3-none-any.whl (62 kB)\n",
            "Downloading watchfiles-0.24.0-cp310-cp310-manylinux_2_17_x86_64.manylinux2014_x86_64.whl (425 kB)\n",
            "Downloading botocore-1.38.20-py3-none-any.whl (13.6 MB)\n",
            "\u001b[2K   \u001b[90m━━━━━━━━━━━━━━━━━━━━━━━━━━━━━━━━━━━━━━━━\u001b[0m \u001b[32m13.6/13.6 MB\u001b[0m \u001b[31m135.2 MB/s\u001b[0m eta \u001b[36m0:00:00\u001b[0m\n",
            "\u001b[?25hDownloading httptools-0.6.4-cp310-cp310-manylinux_2_5_x86_64.manylinux1_x86_64.manylinux_2_17_x86_64.manylinux2014_x86_64.whl (442 kB)\n",
            "Downloading limits-5.2.0-py3-none-any.whl (60 kB)\n",
            "Downloading s3transfer-0.12.0-py3-none-any.whl (84 kB)\n",
            "Downloading starlette-0.46.2-py3-none-any.whl (72 kB)\n",
            "Downloading uvloop-0.21.0-cp310-cp310-manylinux_2_17_x86_64.manylinux2014_x86_64.whl (3.8 MB)\n",
            "\u001b[2K   \u001b[90m━━━━━━━━━━━━━━━━━━━━━━━━━━━━━━━━━━━━━━━━\u001b[0m \u001b[32m3.8/3.8 MB\u001b[0m \u001b[31m93.5 MB/s\u001b[0m eta \u001b[36m0:00:00\u001b[0m\n",
            "\u001b[?25hDownloading websockets-15.0.1-cp310-cp310-manylinux_2_5_x86_64.manylinux1_x86_64.manylinux_2_17_x86_64.manylinux2014_x86_64.whl (181 kB)\n",
            "Installing collected packages: websockets, uvloop, uvicorn, httptools, watchfiles, starlette, limits, botocore, slowapi, s3transfer, fastapi, boto3\n",
            "Successfully installed boto3-1.38.20 botocore-1.38.20 fastapi-0.115.12 httptools-0.6.4 limits-5.2.0 s3transfer-0.12.0 slowapi-0.1.9 starlette-0.46.2 uvicorn-0.34.2 uvloop-0.21.0 watchfiles-0.24.0 websockets-15.0.1\n",
            "Note: you may need to restart the kernel to use updated packages.\n"
          ]
        }
      ],
      "source": [
        "%pip install mlflow[genai]\n",
        "\n"
      ]
    },
    {
      "cell_type": "code",
      "execution_count": null,
      "metadata": {
        "application/vnd.databricks.v1+cell": {
          "cellMetadata": {
            "byteLimit": 2048000,
            "rowLimit": 10000
          },
          "inputWidgets": {},
          "nuid": "c91e1f9b-ef31-4225-94ce-44a46ff4efb9",
          "showTitle": false,
          "tableResultSettingsMap": {},
          "title": ""
        },
        "gather": {
          "logged": 1740682727525
        }
      },
      "outputs": [],
      "source": [
        "\n",
        "\n",
        "# IMPORTANT: After running the above line, restart the kernel to ensure all packages are reloaded properly.\n",
        "# This will resolve the numpy dtype size changed error.  mlflow.models.llmd  doesnt exist in mlflow.models\n",
        "\n",
        "from typing import Callable, Generator, List\n",
        "\n",
        "import mlflow\n",
        "from agent_config import *\n",
        "# from mlflow.models import set_model  # Removed: set_model does not exist in mlflow.models\n",
        "from mlflow.pyfunc import ChatModel\n",
        "from mlflow.types.llm import (\n",
        "    ChatCompletionResponse,\n",
        "    ChatMessage,\n",
        "    ChatParams,\n",
        ")\n",
        " "
      ]
    },
    {
      "cell_type": "code",
      "execution_count": 75,
      "metadata": {},
      "outputs": [],
      "source": [
        "from typing import Callable, Generator, List\n",
        "\n",
        "import mlflow\n",
        "from agent_config import *  # assuming you have config like model path, etc.\n",
        "\n",
        "from mlflow.pyfunc import PythonModel  # Use base class\n",
        "from mlflow.models import infer_signature  # for evaluation metrics/logging\n"
      ]
    },
    {
      "cell_type": "markdown",
      "metadata": {
        "application/vnd.databricks.v1+cell": {
          "cellMetadata": {
            "byteLimit": 2048000,
            "rowLimit": 10000
          },
          "inputWidgets": {},
          "nuid": "1c12b500-f413-43c0-99ce-82f6d2d194e9",
          "showTitle": false,
          "tableResultSettingsMap": {},
          "title": ""
        }
      },
      "source": [
        "## Setting up your agent for MLFlow registration"
      ]
    },
    {
      "cell_type": "code",
      "execution_count": 76,
      "metadata": {},
      "outputs": [],
      "source": [
        "from typing import Callable, Generator, List, Optional, Dict, Any\n",
        "import mlflow.pyfunc\n",
        "\n",
        "\n",
        "class ChatMessage:\n",
        "    def __init__(self, role: str, content: str):\n",
        "        self.role = role\n",
        "        self.content = content\n",
        "\n",
        "\n",
        "class ChatParams:\n",
        "    def __init__(self, temperature: float = 0.7, max_tokens: int = 1024, custom_inputs: Optional[Dict[str, Any]] = None):\n",
        "        self.temperature = temperature\n",
        "        self.max_tokens = max_tokens\n",
        "        self.custom_inputs = custom_inputs or {}\n",
        "\n",
        "\n",
        "class ChatCompletionResponse:\n",
        "    def __init__(self, response: str, metadata: Optional[Dict[str, Any]] = None):\n",
        "        self.response = response\n",
        "        self.metadata = metadata or {}\n"
      ]
    },
    {
      "cell_type": "code",
      "execution_count": 77,
      "metadata": {},
      "outputs": [],
      "source": [
        "class MyAgent(mlflow.pyfunc.PythonModel):\n",
        "    \"\"\"\n",
        "    Defines a custom agent that processes ChatCompletionRequests\n",
        "    and returns ChatCompletionResponses.\n",
        "    \"\"\"\n",
        "\n",
        "    def __init__(self, agent_name: str, agent_function: Callable):\n",
        "        self.agent_name = agent_name\n",
        "        self.agent_function = agent_function\n",
        "\n",
        "    def _get_client_type(self, params: ChatParams) -> str:\n",
        "        if params.custom_inputs and \"client_type\" in params.custom_inputs:\n",
        "            return params.custom_inputs[\"client_type\"]\n",
        "        return \"unknown\"\n",
        "\n",
        "    def predict(self, context, model_input: List[Dict[str, Any]]) -> List[Dict[str, Any]]:\n",
        "        \"\"\"\n",
        "        Accepts a list of inputs where each item is a dict containing:\n",
        "        - 'messages': List[Dict[str, str]] (with 'role' and 'content')\n",
        "        - 'params': Optional[Dict] with keys like 'temperature', 'max_tokens', 'custom_inputs'\n",
        "\n",
        "        Returns:\n",
        "            A list of dicts with a 'response' field and optional 'metadata'.\n",
        "        \"\"\"\n",
        "        results = []\n",
        "        for item in model_input:\n",
        "            messages = [ChatMessage(**m) for m in item[\"messages\"]]\n",
        "            param_data = item.get(\"params\", {})\n",
        "            params = ChatParams(**param_data)\n",
        "\n",
        "            res = self.agent_function(messages=messages, params=params, verbose=True)\n",
        "            results.append({\n",
        "                \"response\": res.response,\n",
        "                \"metadata\": res.metadata,\n",
        "            })\n",
        "        return results\n"
      ]
    },
    {
      "cell_type": "code",
      "execution_count": 78,
      "metadata": {},
      "outputs": [],
      "source": [
        "def dummy_agent_function(messages: List[ChatMessage], params: ChatParams, verbose=False) -> ChatCompletionResponse:\n",
        "    last_user_msg = next((m.content for m in reversed(messages) if m.role == \"user\"), \"\")\n",
        "    reply = f\"Echo: {last_user_msg} (temp={params.temperature})\"\n",
        "    return ChatCompletionResponse(response=reply, metadata={\"echoed\": True})\n"
      ]
    },
    {
      "cell_type": "code",
      "execution_count": 79,
      "metadata": {},
      "outputs": [],
      "source": [
        "from mlflow.models.signature import infer_signature\n",
        "import pandas as pd\n",
        "\n",
        "# Use dummy flattened input for schema inference\n",
        "example_input = pd.DataFrame([{\n",
        "    \"messages\": '[{\"role\": \"user\", \"content\": \"hello\"}]',\n",
        "    \"params\": '{\"temperature\": 0.5}'\n",
        "}])\n",
        "example_output = pd.DataFrame([{\"response\": \"Echo: hello\", \"metadata\": '{\"echoed\": true}'}])\n",
        "\n",
        "signature = infer_signature(example_input, example_output)\n"
      ]
    },
    {
      "cell_type": "code",
      "execution_count": 81,
      "metadata": {},
      "outputs": [],
      "source": [
        "import mlflow.pyfunc\n",
        "\n",
        "agent = MyAgent(agent_name=\"echo-agent\", agent_function=dummy_agent_function)\n",
        "\n",
        "mlflow.pyfunc.save_model(\n",
        "    path=\"my_agent_model_v2\",\n",
        "    python_model=agent,\n",
        "    artifacts=None,\n",
        "    signature=signature,\n",
        "    conda_env=mlflow.pyfunc.get_default_conda_env()\n",
        ")\n"
      ]
    },
    {
      "cell_type": "code",
      "execution_count": 85,
      "metadata": {},
      "outputs": [
        {
          "name": "stderr",
          "output_type": "stream",
          "text": [
            "2025/05/22 21:41:52 INFO mlflow.types.utils: Unsupported type hint: typing.List[typing.Dict[str, typing.Any]], skipping schema inference\n",
            "2025/05/22 21:41:52 INFO mlflow.types.utils: Unsupported type hint: typing.List[typing.Dict[str, typing.Any]], skipping schema inference\n",
            "2025/05/22 21:41:52 WARNING mlflow.models.signature: Failed to infer the model signature from the input example. Reason: MlflowException(\"Failed to infer schema for pandas.Series 0    {'temperature': 0.5, 'max_tokens': 256, 'custo...\\nName: params, dtype: object. Error: Creating Object with empty properties is not allowed.\"). To see the full traceback, set the logging level to DEBUG via `logging.getLogger(\"mlflow\").setLevel(logging.DEBUG)`. To disable automatic signature inference, set `signature` to `False` in your `log_model` or `save_model` call.\n",
            "2025/05/22 21:41:54 WARNING mlflow.utils.requirements_utils: Failed to run predict on input_example, dependencies introduced in predict are not captured.\n",
            "TypeError('string indices must be integers')Traceback (most recent call last):\n",
            "\n",
            "\n",
            "  File \"/anaconda/envs/azureml_py310_sdkv2/lib/python3.10/site-packages/mlflow/utils/_capture_modules.py\", line 165, in load_model_and_predict\n",
            "    model.predict(input_example, params=params)\n",
            "\n",
            "\n",
            "  File \"/anaconda/envs/azureml_py310_sdkv2/lib/python3.10/site-packages/mlflow/pyfunc/model.py\", line 601, in predict\n",
            "    return self.python_model.predict(self.context, self._convert_input(model_input))\n",
            "\n",
            "\n",
            "  File \"/tmp/ipykernel_31020/1003081429.py\", line 27, in predict\n",
            "\n",
            "\n",
            "TypeError: string indices must be integers\n",
            "/anaconda/envs/azureml_py310_sdkv2/lib/python3.10/site-packages/_distutils_hack/__init__.py:16: UserWarning: Distutils was imported before Setuptools, but importing Setuptools also replaces the `distutils` module in `sys.modules`. This may lead to undesirable behaviors or errors. To avoid these issues, avoid using distutils directly, ensure that setuptools is installed in the traditional way (e.g. not an editable install), and/or make sure that setuptools is always imported before distutils.\n",
            "  warnings.warn(\n",
            "/anaconda/envs/azureml_py310_sdkv2/lib/python3.10/site-packages/_distutils_hack/__init__.py:31: UserWarning: Setuptools is replacing distutils. Support for replacing an already imported distutils is deprecated. In the future, this condition will fail. Register concerns at https://github.com/pypa/setuptools/issues/new?template=distutils-deprecation.yml\n",
            "  warnings.warn(\n",
            "Successfully registered model 'MyAgentModel'.\n",
            "2025/05/22 21:41:57 INFO mlflow.store.model_registry.abstract_store: Waiting up to 300 seconds for model version to finish creation. Model name: MyAgentModel, version 1\n",
            "Created version '1' of model 'MyAgentModel'.\n"
          ]
        }
      ],
      "source": [
        "import mlflow\n",
        "#from my_agent_model import MyAgent\n",
        "\n",
        "# Dummy function to simulate response generation\n",
        "def dummy_agent_function(messages: List[ChatMessage], params: ChatParams, verbose=False) -> ChatCompletionResponse:\n",
        "    return ChatCompletionResponse(response=f\"Processed {len(messages)} messages\", metadata={\"dummy\": True})\n",
        "\n",
        "\n",
        "model = MyAgent(agent_name=\"TestAgent\", agent_function=dummy_agent_function)\n",
        "\n",
        "with mlflow.start_run():\n",
        "    mlflow.pyfunc.log_model(\n",
        "        artifact_path=\"my_agent_model\",\n",
        "        python_model=model,\n",
        "        registered_model_name=\"MyAgentModel\",\n",
        "        input_example=[\n",
        "            {\n",
        "                \"messages\": [{\"role\": \"user\", \"content\": \"Hello\"}],\n",
        "                \"params\": {\"temperature\": 0.5, \"max_tokens\": 256, \"custom_inputs\": {}}\n",
        "            }\n",
        "        ],\n",
        "    )\n",
        "\n"
      ]
    },
    {
      "cell_type": "code",
      "execution_count": 87,
      "metadata": {},
      "outputs": [
        {
          "name": "stdout",
          "output_type": "stream",
          "text": [
            "Run ID: cf094287-d05b-4265-b8c0-7241e61d2e39\n"
          ]
        }
      ],
      "source": [
        "with mlflow.start_run() as run:\n",
        "    run_id = run.info.run_id\n",
        "    mlflow.pyfunc.log_model(\n",
        "        artifact_path=\"my_agent_model\",\n",
        "        python_model=model,\n",
        "        signature=signature\n",
        "    )\n",
        "    print(f\"Run ID: {run_id}\")\n"
      ]
    },
    {
      "cell_type": "code",
      "execution_count": null,
      "metadata": {},
      "outputs": [],
      "source": [
        "eval_data = pd.DataFrame([\n",
        "    {\n",
        "        \"messages\": [\n",
        "            {\"role\": \"user\", \"content\": \"How many white patients in the dataset?\"},\n",
        "            {\"role\": \"assistant\", \"content\": \"300\"},\n",
        "            {\"role\": \"user\", \"content\": \"How many hispanic patients in the dataset?\"},\n",
        "            {\"role\": \"assistant\", \"content\": \"400\"},\n",
        "            {\"role\": \"user\", \"content\": \"What race was the last one I asked about?\"}\n",
        "        ],\n",
        "        \"params\": {\"custom_inputs\": {\"client_type\": \"mobile\"}},\n",
        "        \"target\": \"Hispanic\"  # Expected answer\n",
        "    }\n",
        "])\n",
        "\n"
      ]
    },
    {
      "cell_type": "code",
      "execution_count": 96,
      "metadata": {},
      "outputs": [
        {
          "name": "stderr",
          "output_type": "stream",
          "text": [
            "Downloading artifacts: 100%|██████████| 9/9 [00:00<00:00, 24.37it/s]\n",
            "2025/05/22 21:55:57 INFO mlflow.models.evaluation.default_evaluator: Computing model predictions.\n"
          ]
        },
        {
          "ename": "TypeError",
          "evalue": "string indices must be integers",
          "output_type": "error",
          "traceback": [
            "\u001b[0;31m---------------------------------------------------------------------------\u001b[0m",
            "\u001b[0;31mTypeError\u001b[0m                                 Traceback (most recent call last)",
            "Cell \u001b[0;32mIn[96], line 5\u001b[0m\n\u001b[1;32m      1\u001b[0m \u001b[38;5;28;01mimport\u001b[39;00m \u001b[38;5;21;01mpandas\u001b[39;00m \u001b[38;5;28;01mas\u001b[39;00m \u001b[38;5;21;01mpd\u001b[39;00m\n\u001b[1;32m      2\u001b[0m \u001b[38;5;28;01mfrom\u001b[39;00m \u001b[38;5;21;01mmlflow\u001b[39;00m\u001b[38;5;21;01m.\u001b[39;00m\u001b[38;5;21;01mmodels\u001b[39;00m \u001b[38;5;28;01mimport\u001b[39;00m evaluate\n\u001b[0;32m----> 5\u001b[0m results \u001b[38;5;241m=\u001b[39m \u001b[43mevaluate\u001b[49m\u001b[43m(\u001b[49m\n\u001b[1;32m      6\u001b[0m \u001b[43m    \u001b[49m\u001b[43mmodel\u001b[49m\u001b[38;5;241;43m=\u001b[39;49m\u001b[38;5;124;43m\"\u001b[39;49m\u001b[38;5;124;43mruns:/cf094287-d05b-4265-b8c0-7241e61d2e39/my_agent_model\u001b[39;49m\u001b[38;5;124;43m\"\u001b[39;49m\u001b[43m,\u001b[49m\n\u001b[1;32m      7\u001b[0m \u001b[43m    \u001b[49m\u001b[43mdata\u001b[49m\u001b[38;5;241;43m=\u001b[39;49m\u001b[43meval_data\u001b[49m\u001b[43m,\u001b[49m\n\u001b[1;32m      8\u001b[0m \u001b[43m    \u001b[49m\u001b[43mtargets\u001b[49m\u001b[38;5;241;43m=\u001b[39;49m\u001b[38;5;124;43m\"\u001b[39;49m\u001b[38;5;124;43mtarget\u001b[39;49m\u001b[38;5;124;43m\"\u001b[39;49m\u001b[43m,\u001b[49m\u001b[43m  \u001b[49m\u001b[38;5;66;43;03m# <== name of the column, not a list\u001b[39;49;00m\n\u001b[1;32m      9\u001b[0m \u001b[43m    \u001b[49m\u001b[43mmodel_type\u001b[49m\u001b[38;5;241;43m=\u001b[39;49m\u001b[38;5;124;43m\"\u001b[39;49m\u001b[38;5;124;43mtext\u001b[39;49m\u001b[38;5;124;43m\"\u001b[39;49m\u001b[43m,\u001b[49m\u001b[43m  \u001b[49m\u001b[38;5;66;43;03m# Probably more appropriate than \"classifier\" for LLMs\u001b[39;49;00m\n\u001b[1;32m     10\u001b[0m \u001b[43m    \u001b[49m\u001b[43mevaluators\u001b[49m\u001b[38;5;241;43m=\u001b[39;49m\u001b[38;5;124;43m\"\u001b[39;49m\u001b[38;5;124;43mdefault\u001b[39;49m\u001b[38;5;124;43m\"\u001b[39;49m\u001b[43m,\u001b[49m\n\u001b[1;32m     11\u001b[0m \u001b[43m)\u001b[49m\n\u001b[1;32m     12\u001b[0m \u001b[38;5;28mprint\u001b[39m(results\u001b[38;5;241m.\u001b[39mmetrics)\n",
            "File \u001b[0;32m/anaconda/envs/azureml_py310_sdkv2/lib/python3.10/site-packages/mlflow/models/evaluation/base.py:2131\u001b[0m, in \u001b[0;36mevaluate\u001b[0;34m(model, data, model_type, targets, predictions, dataset_path, feature_names, evaluators, evaluator_config, custom_metrics, extra_metrics, custom_artifacts, validation_thresholds, baseline_model, env_manager, model_config, baseline_config, inference_params)\u001b[0m\n\u001b[1;32m   2128\u001b[0m predictions_expected_in_model_output \u001b[38;5;241m=\u001b[39m predictions \u001b[38;5;28;01mif\u001b[39;00m model \u001b[38;5;129;01mis\u001b[39;00m \u001b[38;5;129;01mnot\u001b[39;00m \u001b[38;5;28;01mNone\u001b[39;00m \u001b[38;5;28;01melse\u001b[39;00m \u001b[38;5;28;01mNone\u001b[39;00m\n\u001b[1;32m   2130\u001b[0m \u001b[38;5;28;01mtry\u001b[39;00m:\n\u001b[0;32m-> 2131\u001b[0m     evaluate_result \u001b[38;5;241m=\u001b[39m \u001b[43m_evaluate\u001b[49m\u001b[43m(\u001b[49m\n\u001b[1;32m   2132\u001b[0m \u001b[43m        \u001b[49m\u001b[43mmodel\u001b[49m\u001b[38;5;241;43m=\u001b[39;49m\u001b[43mmodel\u001b[49m\u001b[43m,\u001b[49m\n\u001b[1;32m   2133\u001b[0m \u001b[43m        \u001b[49m\u001b[43mmodel_type\u001b[49m\u001b[38;5;241;43m=\u001b[39;49m\u001b[43mmodel_type\u001b[49m\u001b[43m,\u001b[49m\n\u001b[1;32m   2134\u001b[0m \u001b[43m        \u001b[49m\u001b[43mdataset\u001b[49m\u001b[38;5;241;43m=\u001b[39;49m\u001b[43mdataset\u001b[49m\u001b[43m,\u001b[49m\n\u001b[1;32m   2135\u001b[0m \u001b[43m        \u001b[49m\u001b[43mrun_id\u001b[49m\u001b[38;5;241;43m=\u001b[39;49m\u001b[43mrun_id\u001b[49m\u001b[43m,\u001b[49m\n\u001b[1;32m   2136\u001b[0m \u001b[43m        \u001b[49m\u001b[43mevaluator_name_list\u001b[49m\u001b[38;5;241;43m=\u001b[39;49m\u001b[43mevaluator_name_list\u001b[49m\u001b[43m,\u001b[49m\n\u001b[1;32m   2137\u001b[0m \u001b[43m        \u001b[49m\u001b[43mevaluator_name_to_conf_map\u001b[49m\u001b[38;5;241;43m=\u001b[39;49m\u001b[43mevaluator_name_to_conf_map\u001b[49m\u001b[43m,\u001b[49m\n\u001b[1;32m   2138\u001b[0m \u001b[43m        \u001b[49m\u001b[43mcustom_metrics\u001b[49m\u001b[38;5;241;43m=\u001b[39;49m\u001b[43mcustom_metrics\u001b[49m\u001b[43m,\u001b[49m\n\u001b[1;32m   2139\u001b[0m \u001b[43m        \u001b[49m\u001b[43mextra_metrics\u001b[49m\u001b[38;5;241;43m=\u001b[39;49m\u001b[43mextra_metrics\u001b[49m\u001b[43m,\u001b[49m\n\u001b[1;32m   2140\u001b[0m \u001b[43m        \u001b[49m\u001b[43mcustom_artifacts\u001b[49m\u001b[38;5;241;43m=\u001b[39;49m\u001b[43mcustom_artifacts\u001b[49m\u001b[43m,\u001b[49m\n\u001b[1;32m   2141\u001b[0m \u001b[43m        \u001b[49m\u001b[43mbaseline_model\u001b[49m\u001b[38;5;241;43m=\u001b[39;49m\u001b[43mbaseline_model\u001b[49m\u001b[43m,\u001b[49m\n\u001b[1;32m   2142\u001b[0m \u001b[43m        \u001b[49m\u001b[43mpredictions\u001b[49m\u001b[38;5;241;43m=\u001b[39;49m\u001b[43mpredictions_expected_in_model_output\u001b[49m\u001b[43m,\u001b[49m\n\u001b[1;32m   2143\u001b[0m \u001b[43m    \u001b[49m\u001b[43m)\u001b[49m\n\u001b[1;32m   2144\u001b[0m \u001b[38;5;28;01mfinally\u001b[39;00m:\n\u001b[1;32m   2145\u001b[0m     \u001b[38;5;28;01mif\u001b[39;00m \u001b[38;5;28misinstance\u001b[39m(model, _ServedPyFuncModel):\n",
            "File \u001b[0;32m/anaconda/envs/azureml_py310_sdkv2/lib/python3.10/site-packages/mlflow/models/evaluation/base.py:1309\u001b[0m, in \u001b[0;36m_evaluate\u001b[0;34m(model, model_type, dataset, run_id, evaluator_name_list, evaluator_name_to_conf_map, custom_metrics, extra_metrics, custom_artifacts, baseline_model, predictions)\u001b[0m\n\u001b[1;32m   1307\u001b[0m     \u001b[38;5;28;01mif\u001b[39;00m evaluator\u001b[38;5;241m.\u001b[39mcan_evaluate(model_type\u001b[38;5;241m=\u001b[39mmodel_type, evaluator_config\u001b[38;5;241m=\u001b[39mconfig):\n\u001b[1;32m   1308\u001b[0m         _logger\u001b[38;5;241m.\u001b[39mdebug(\u001b[38;5;124mf\u001b[39m\u001b[38;5;124m\"\u001b[39m\u001b[38;5;124mEvaluating the model with the \u001b[39m\u001b[38;5;132;01m{\u001b[39;00mevaluator_name\u001b[38;5;132;01m}\u001b[39;00m\u001b[38;5;124m evaluator.\u001b[39m\u001b[38;5;124m\"\u001b[39m)\n\u001b[0;32m-> 1309\u001b[0m         eval_result \u001b[38;5;241m=\u001b[39m \u001b[43mevaluator\u001b[49m\u001b[38;5;241;43m.\u001b[39;49m\u001b[43mevaluate\u001b[49m\u001b[43m(\u001b[49m\n\u001b[1;32m   1310\u001b[0m \u001b[43m            \u001b[49m\u001b[43mmodel\u001b[49m\u001b[38;5;241;43m=\u001b[39;49m\u001b[43mmodel\u001b[49m\u001b[43m,\u001b[49m\n\u001b[1;32m   1311\u001b[0m \u001b[43m            \u001b[49m\u001b[43mmodel_type\u001b[49m\u001b[38;5;241;43m=\u001b[39;49m\u001b[43mmodel_type\u001b[49m\u001b[43m,\u001b[49m\n\u001b[1;32m   1312\u001b[0m \u001b[43m            \u001b[49m\u001b[43mdataset\u001b[49m\u001b[38;5;241;43m=\u001b[39;49m\u001b[43mdataset\u001b[49m\u001b[43m,\u001b[49m\n\u001b[1;32m   1313\u001b[0m \u001b[43m            \u001b[49m\u001b[43mrun_id\u001b[49m\u001b[38;5;241;43m=\u001b[39;49m\u001b[43mrun_id\u001b[49m\u001b[43m,\u001b[49m\n\u001b[1;32m   1314\u001b[0m \u001b[43m            \u001b[49m\u001b[43mevaluator_config\u001b[49m\u001b[38;5;241;43m=\u001b[39;49m\u001b[43mconfig\u001b[49m\u001b[43m,\u001b[49m\n\u001b[1;32m   1315\u001b[0m \u001b[43m            \u001b[49m\u001b[43mcustom_metrics\u001b[49m\u001b[38;5;241;43m=\u001b[39;49m\u001b[43mcustom_metrics\u001b[49m\u001b[43m,\u001b[49m\n\u001b[1;32m   1316\u001b[0m \u001b[43m            \u001b[49m\u001b[43mextra_metrics\u001b[49m\u001b[38;5;241;43m=\u001b[39;49m\u001b[43mextra_metrics\u001b[49m\u001b[43m,\u001b[49m\n\u001b[1;32m   1317\u001b[0m \u001b[43m            \u001b[49m\u001b[43mcustom_artifacts\u001b[49m\u001b[38;5;241;43m=\u001b[39;49m\u001b[43mcustom_artifacts\u001b[49m\u001b[43m,\u001b[49m\n\u001b[1;32m   1318\u001b[0m \u001b[43m            \u001b[49m\u001b[43mbaseline_model\u001b[49m\u001b[38;5;241;43m=\u001b[39;49m\u001b[43mbaseline_model\u001b[49m\u001b[43m,\u001b[49m\n\u001b[1;32m   1319\u001b[0m \u001b[43m            \u001b[49m\u001b[43mpredictions\u001b[49m\u001b[38;5;241;43m=\u001b[39;49m\u001b[43mpredictions\u001b[49m\u001b[43m,\u001b[49m\n\u001b[1;32m   1320\u001b[0m \u001b[43m        \u001b[49m\u001b[43m)\u001b[49m\n\u001b[1;32m   1321\u001b[0m         eval_results\u001b[38;5;241m.\u001b[39mappend(eval_result)\n\u001b[1;32m   1323\u001b[0m _last_failed_evaluator \u001b[38;5;241m=\u001b[39m \u001b[38;5;28;01mNone\u001b[39;00m\n",
            "File \u001b[0;32m/anaconda/envs/azureml_py310_sdkv2/lib/python3.10/site-packages/mlflow/models/evaluation/default_evaluator.py:2016\u001b[0m, in \u001b[0;36mDefaultEvaluator.evaluate\u001b[0;34m(self, model_type, dataset, run_id, evaluator_config, model, custom_metrics, extra_metrics, custom_artifacts, baseline_model, predictions, **kwargs)\u001b[0m\n\u001b[1;32m   2014\u001b[0m     \u001b[38;5;28;01mif\u001b[39;00m baseline_model:\n\u001b[1;32m   2015\u001b[0m         _logger\u001b[38;5;241m.\u001b[39minfo(\u001b[38;5;124m\"\u001b[39m\u001b[38;5;124mEvaluating candidate model:\u001b[39m\u001b[38;5;124m\"\u001b[39m)\n\u001b[0;32m-> 2016\u001b[0m     evaluation_result \u001b[38;5;241m=\u001b[39m \u001b[38;5;28;43mself\u001b[39;49m\u001b[38;5;241;43m.\u001b[39;49m\u001b[43m_evaluate\u001b[49m\u001b[43m(\u001b[49m\u001b[43mmodel\u001b[49m\u001b[43m,\u001b[49m\u001b[43m \u001b[49m\u001b[43mis_baseline_model\u001b[49m\u001b[38;5;241;43m=\u001b[39;49m\u001b[38;5;28;43;01mFalse\u001b[39;49;00m\u001b[43m)\u001b[49m\n\u001b[1;32m   2018\u001b[0m \u001b[38;5;28;01mif\u001b[39;00m \u001b[38;5;129;01mnot\u001b[39;00m baseline_model:\n\u001b[1;32m   2019\u001b[0m     \u001b[38;5;28;01mreturn\u001b[39;00m evaluation_result\n",
            "File \u001b[0;32m/anaconda/envs/azureml_py310_sdkv2/lib/python3.10/site-packages/mlflow/models/evaluation/default_evaluator.py:1886\u001b[0m, in \u001b[0;36mDefaultEvaluator._evaluate\u001b[0;34m(self, model, is_baseline_model, **kwargs)\u001b[0m\n\u001b[1;32m   1884\u001b[0m         \u001b[38;5;28mself\u001b[39m\u001b[38;5;241m.\u001b[39mextra_metrics\u001b[38;5;241m.\u001b[39mremove(extra_metric)\n\u001b[1;32m   1885\u001b[0m         \u001b[38;5;28;01mbreak\u001b[39;00m\n\u001b[0;32m-> 1886\u001b[0m \u001b[38;5;28;43mself\u001b[39;49m\u001b[38;5;241;43m.\u001b[39;49m\u001b[43m_generate_model_predictions\u001b[49m\u001b[43m(\u001b[49m\u001b[43mcompute_latency\u001b[49m\u001b[38;5;241;43m=\u001b[39;49m\u001b[43mcompute_latency\u001b[49m\u001b[43m)\u001b[49m\n\u001b[1;32m   1887\u001b[0m \u001b[38;5;28mself\u001b[39m\u001b[38;5;241m.\u001b[39m_handle_builtin_metrics_by_model_type()\n\u001b[1;32m   1889\u001b[0m eval_df \u001b[38;5;241m=\u001b[39m pd\u001b[38;5;241m.\u001b[39mDataFrame({\u001b[38;5;124m\"\u001b[39m\u001b[38;5;124mprediction\u001b[39m\u001b[38;5;124m\"\u001b[39m: copy\u001b[38;5;241m.\u001b[39mdeepcopy(\u001b[38;5;28mself\u001b[39m\u001b[38;5;241m.\u001b[39my_pred)})\n",
            "File \u001b[0;32m/anaconda/envs/azureml_py310_sdkv2/lib/python3.10/site-packages/mlflow/models/evaluation/default_evaluator.py:1453\u001b[0m, in \u001b[0;36mDefaultEvaluator._generate_model_predictions\u001b[0;34m(self, compute_latency)\u001b[0m\n\u001b[1;32m   1451\u001b[0m         model_predictions \u001b[38;5;241m=\u001b[39m predict_with_latency(X_copy)\n\u001b[1;32m   1452\u001b[0m     \u001b[38;5;28;01melse\u001b[39;00m:\n\u001b[0;32m-> 1453\u001b[0m         model_predictions \u001b[38;5;241m=\u001b[39m \u001b[38;5;28;43mself\u001b[39;49m\u001b[38;5;241;43m.\u001b[39;49m\u001b[43mmodel\u001b[49m\u001b[38;5;241;43m.\u001b[39;49m\u001b[43mpredict\u001b[49m\u001b[43m(\u001b[49m\u001b[43mX_copy\u001b[49m\u001b[43m)\u001b[49m\n\u001b[1;32m   1454\u001b[0m \u001b[38;5;28;01melse\u001b[39;00m:\n\u001b[1;32m   1455\u001b[0m     \u001b[38;5;28;01mif\u001b[39;00m \u001b[38;5;28mself\u001b[39m\u001b[38;5;241m.\u001b[39mdataset\u001b[38;5;241m.\u001b[39mpredictions_data \u001b[38;5;129;01mis\u001b[39;00m \u001b[38;5;28;01mNone\u001b[39;00m:\n",
            "File \u001b[0;32m/anaconda/envs/azureml_py310_sdkv2/lib/python3.10/site-packages/mlflow/pyfunc/__init__.py:738\u001b[0m, in \u001b[0;36mPyFuncModel.predict\u001b[0;34m(self, data, params)\u001b[0m\n\u001b[1;32m    736\u001b[0m data, params \u001b[38;5;241m=\u001b[39m \u001b[38;5;28mself\u001b[39m\u001b[38;5;241m.\u001b[39m_validate_prediction_input(data, params)\n\u001b[1;32m    737\u001b[0m \u001b[38;5;28;01mif\u001b[39;00m inspect\u001b[38;5;241m.\u001b[39msignature(\u001b[38;5;28mself\u001b[39m\u001b[38;5;241m.\u001b[39m_predict_fn)\u001b[38;5;241m.\u001b[39mparameters\u001b[38;5;241m.\u001b[39mget(\u001b[38;5;124m\"\u001b[39m\u001b[38;5;124mparams\u001b[39m\u001b[38;5;124m\"\u001b[39m):\n\u001b[0;32m--> 738\u001b[0m     \u001b[38;5;28;01mreturn\u001b[39;00m \u001b[38;5;28;43mself\u001b[39;49m\u001b[38;5;241;43m.\u001b[39;49m\u001b[43m_predict_fn\u001b[49m\u001b[43m(\u001b[49m\u001b[43mdata\u001b[49m\u001b[43m,\u001b[49m\u001b[43m \u001b[49m\u001b[43mparams\u001b[49m\u001b[38;5;241;43m=\u001b[39;49m\u001b[43mparams\u001b[49m\u001b[43m)\u001b[49m\n\u001b[1;32m    740\u001b[0m _log_warning_if_params_not_in_predict_signature(_logger, params)\n\u001b[1;32m    741\u001b[0m \u001b[38;5;28;01mreturn\u001b[39;00m \u001b[38;5;28mself\u001b[39m\u001b[38;5;241m.\u001b[39m_predict_fn(data)\n",
            "File \u001b[0;32m/anaconda/envs/azureml_py310_sdkv2/lib/python3.10/site-packages/mlflow/pyfunc/model.py:601\u001b[0m, in \u001b[0;36m_PythonModelPyfuncWrapper.predict\u001b[0;34m(self, model_input, params)\u001b[0m\n\u001b[1;32m    597\u001b[0m     \u001b[38;5;28;01mreturn\u001b[39;00m \u001b[38;5;28mself\u001b[39m\u001b[38;5;241m.\u001b[39mpython_model\u001b[38;5;241m.\u001b[39mpredict(\n\u001b[1;32m    598\u001b[0m         \u001b[38;5;28mself\u001b[39m\u001b[38;5;241m.\u001b[39mcontext, \u001b[38;5;28mself\u001b[39m\u001b[38;5;241m.\u001b[39m_convert_input(model_input), params\u001b[38;5;241m=\u001b[39mparams\n\u001b[1;32m    599\u001b[0m     )\n\u001b[1;32m    600\u001b[0m _log_warning_if_params_not_in_predict_signature(_logger, params)\n\u001b[0;32m--> 601\u001b[0m \u001b[38;5;28;01mreturn\u001b[39;00m \u001b[38;5;28;43mself\u001b[39;49m\u001b[38;5;241;43m.\u001b[39;49m\u001b[43mpython_model\u001b[49m\u001b[38;5;241;43m.\u001b[39;49m\u001b[43mpredict\u001b[49m\u001b[43m(\u001b[49m\u001b[38;5;28;43mself\u001b[39;49m\u001b[38;5;241;43m.\u001b[39;49m\u001b[43mcontext\u001b[49m\u001b[43m,\u001b[49m\u001b[43m \u001b[49m\u001b[38;5;28;43mself\u001b[39;49m\u001b[38;5;241;43m.\u001b[39;49m\u001b[43m_convert_input\u001b[49m\u001b[43m(\u001b[49m\u001b[43mmodel_input\u001b[49m\u001b[43m)\u001b[49m\u001b[43m)\u001b[49m\n",
            "Cell \u001b[0;32mIn[77], line 27\u001b[0m, in \u001b[0;36mMyAgent.predict\u001b[0;34m(self, context, model_input)\u001b[0m\n\u001b[1;32m     25\u001b[0m results \u001b[38;5;241m=\u001b[39m []\n\u001b[1;32m     26\u001b[0m \u001b[38;5;28;01mfor\u001b[39;00m item \u001b[38;5;129;01min\u001b[39;00m model_input:\n\u001b[0;32m---> 27\u001b[0m     messages \u001b[38;5;241m=\u001b[39m [ChatMessage(\u001b[38;5;241m*\u001b[39m\u001b[38;5;241m*\u001b[39mm) \u001b[38;5;28;01mfor\u001b[39;00m m \u001b[38;5;129;01min\u001b[39;00m \u001b[43mitem\u001b[49m\u001b[43m[\u001b[49m\u001b[38;5;124;43m\"\u001b[39;49m\u001b[38;5;124;43mmessages\u001b[39;49m\u001b[38;5;124;43m\"\u001b[39;49m\u001b[43m]\u001b[49m]\n\u001b[1;32m     28\u001b[0m     param_data \u001b[38;5;241m=\u001b[39m item\u001b[38;5;241m.\u001b[39mget(\u001b[38;5;124m\"\u001b[39m\u001b[38;5;124mparams\u001b[39m\u001b[38;5;124m\"\u001b[39m, {})\n\u001b[1;32m     29\u001b[0m     params \u001b[38;5;241m=\u001b[39m ChatParams(\u001b[38;5;241m*\u001b[39m\u001b[38;5;241m*\u001b[39mparam_data)\n",
            "\u001b[0;31mTypeError\u001b[0m: string indices must be integers"
          ]
        }
      ],
      "source": [
        "import pandas as pd\n",
        "from mlflow.models import evaluate\n",
        "\n",
        "\n",
        "results = evaluate(\n",
        "    model=\"runs:/cf094287-d05b-4265-b8c0-7241e61d2e39/my_agent_model\",\n",
        "    data=eval_data,\n",
        "    targets=\"target\",  # <== name of the column, not a list\n",
        "    model_type=\"text\",  # Probably more appropriate than \"classifier\" for LLMs\n",
        "    evaluators=\"default\",\n",
        ")\n",
        "print(results.metrics)\n"
      ]
    },
    {
      "cell_type": "code",
      "execution_count": null,
      "metadata": {},
      "outputs": [
        {
          "ename": "MlflowException",
          "evalue": "The targets argument must be specified for classifier models.",
          "output_type": "error",
          "traceback": [
            "\u001b[0;31m---------------------------------------------------------------------------\u001b[0m",
            "\u001b[0;31mMlflowException\u001b[0m                           Traceback (most recent call last)",
            "Cell \u001b[0;32mIn[90], line 10\u001b[0m\n\u001b[1;32m      4\u001b[0m \u001b[38;5;66;03m# Test data\u001b[39;00m\n\u001b[1;32m      5\u001b[0m eval_data \u001b[38;5;241m=\u001b[39m pd\u001b[38;5;241m.\u001b[39mDataFrame([\n\u001b[1;32m      6\u001b[0m     {\u001b[38;5;124m\"\u001b[39m\u001b[38;5;124mmessages\u001b[39m\u001b[38;5;124m\"\u001b[39m: [{\u001b[38;5;124m\"\u001b[39m\u001b[38;5;124mrole\u001b[39m\u001b[38;5;124m\"\u001b[39m: \u001b[38;5;124m\"\u001b[39m\u001b[38;5;124muser\u001b[39m\u001b[38;5;124m\"\u001b[39m, \u001b[38;5;124m\"\u001b[39m\u001b[38;5;124mcontent\u001b[39m\u001b[38;5;124m\"\u001b[39m: \u001b[38;5;124m\"\u001b[39m\u001b[38;5;124mHi\u001b[39m\u001b[38;5;124m\"\u001b[39m}], \u001b[38;5;124m\"\u001b[39m\u001b[38;5;124mparams\u001b[39m\u001b[38;5;124m\"\u001b[39m: {}},\n\u001b[1;32m      7\u001b[0m     {\u001b[38;5;124m\"\u001b[39m\u001b[38;5;124mmessages\u001b[39m\u001b[38;5;124m\"\u001b[39m: [{\u001b[38;5;124m\"\u001b[39m\u001b[38;5;124mrole\u001b[39m\u001b[38;5;124m\"\u001b[39m: \u001b[38;5;124m\"\u001b[39m\u001b[38;5;124muser\u001b[39m\u001b[38;5;124m\"\u001b[39m, \u001b[38;5;124m\"\u001b[39m\u001b[38;5;124mcontent\u001b[39m\u001b[38;5;124m\"\u001b[39m: \u001b[38;5;124m\"\u001b[39m\u001b[38;5;124mWhat’s the weather?\u001b[39m\u001b[38;5;124m\"\u001b[39m}], \u001b[38;5;124m\"\u001b[39m\u001b[38;5;124mparams\u001b[39m\u001b[38;5;124m\"\u001b[39m: {}}\n\u001b[1;32m      8\u001b[0m ])\n\u001b[0;32m---> 10\u001b[0m results \u001b[38;5;241m=\u001b[39m \u001b[43mevaluate\u001b[49m\u001b[43m(\u001b[49m\n\u001b[1;32m     11\u001b[0m \u001b[43m    \u001b[49m\u001b[43mmodel\u001b[49m\u001b[38;5;241;43m=\u001b[39;49m\u001b[38;5;124;43m\"\u001b[39;49m\u001b[38;5;124;43mruns:/cf094287-d05b-4265-b8c0-7241e61d2e39/my_agent_model\u001b[39;49m\u001b[38;5;124;43m\"\u001b[39;49m\u001b[43m,\u001b[49m\u001b[43m  \u001b[49m\u001b[38;5;66;43;03m# or use the local path if not registered\u001b[39;49;00m\n\u001b[1;32m     12\u001b[0m \u001b[43m    \u001b[49m\u001b[43mdata\u001b[49m\u001b[38;5;241;43m=\u001b[39;49m\u001b[43meval_data\u001b[49m\u001b[43m,\u001b[49m\n\u001b[1;32m     13\u001b[0m \u001b[43m    \u001b[49m\u001b[38;5;66;43;03m#targets=[\"Processed 1 messages\", \"Processed 1 messages\"],  # Expected outputs\u001b[39;49;00m\n\u001b[1;32m     14\u001b[0m \u001b[43m    \u001b[49m\u001b[43mmodel_type\u001b[49m\u001b[38;5;241;43m=\u001b[39;49m\u001b[38;5;124;43m\"\u001b[39;49m\u001b[38;5;124;43mclassifier\u001b[39;49m\u001b[38;5;124;43m\"\u001b[39;49m\u001b[43m,\u001b[49m\u001b[43m  \u001b[49m\u001b[38;5;66;43;03m# You can also use 'regressor' or 'text'\u001b[39;49;00m\n\u001b[1;32m     15\u001b[0m \u001b[43m    \u001b[49m\u001b[43mevaluators\u001b[49m\u001b[38;5;241;43m=\u001b[39;49m\u001b[38;5;124;43m\"\u001b[39;49m\u001b[38;5;124;43mdefault\u001b[39;49m\u001b[38;5;124;43m\"\u001b[39;49m\u001b[43m,\u001b[49m\n\u001b[1;32m     16\u001b[0m \u001b[43m)\u001b[49m\n\u001b[1;32m     18\u001b[0m \u001b[38;5;28mprint\u001b[39m(results\u001b[38;5;241m.\u001b[39mmetrics)\n",
            "File \u001b[0;32m/anaconda/envs/azureml_py310_sdkv2/lib/python3.10/site-packages/mlflow/models/evaluation/base.py:2019\u001b[0m, in \u001b[0;36mevaluate\u001b[0;34m(model, data, model_type, targets, predictions, dataset_path, feature_names, evaluators, evaluator_config, custom_metrics, extra_metrics, custom_artifacts, validation_thresholds, baseline_model, env_manager, model_config, baseline_config, inference_params)\u001b[0m\n\u001b[1;32m   2017\u001b[0m     \u001b[38;5;28;01melse\u001b[39;00m:\n\u001b[1;32m   2018\u001b[0m         \u001b[38;5;28;01mif\u001b[39;00m targets \u001b[38;5;129;01mis\u001b[39;00m \u001b[38;5;28;01mNone\u001b[39;00m:\n\u001b[0;32m-> 2019\u001b[0m             \u001b[38;5;28;01mraise\u001b[39;00m MlflowException(\n\u001b[1;32m   2020\u001b[0m                 \u001b[38;5;124mf\u001b[39m\u001b[38;5;124m\"\u001b[39m\u001b[38;5;124mThe targets argument must be specified for \u001b[39m\u001b[38;5;132;01m{\u001b[39;00mmodel_type\u001b[38;5;132;01m}\u001b[39;00m\u001b[38;5;124m models.\u001b[39m\u001b[38;5;124m\"\u001b[39m,\n\u001b[1;32m   2021\u001b[0m                 error_code\u001b[38;5;241m=\u001b[39mINVALID_PARAMETER_VALUE,\n\u001b[1;32m   2022\u001b[0m             )\n\u001b[1;32m   2023\u001b[0m \u001b[38;5;28;01melif\u001b[39;00m model_type \u001b[38;5;129;01mis\u001b[39;00m \u001b[38;5;28;01mNone\u001b[39;00m:\n\u001b[1;32m   2024\u001b[0m     \u001b[38;5;28;01mif\u001b[39;00m \u001b[38;5;129;01mnot\u001b[39;00m extra_metrics:\n",
            "\u001b[0;31mMlflowException\u001b[0m: The targets argument must be specified for classifier models."
          ]
        }
      ],
      "source": [
        "import pandas as pd\n",
        "from mlflow.models import evaluate\n",
        "\n",
        "# Test data\n",
        "eval_data = pd.DataFrame([\n",
        "    {\"messages\": [{\"role\": \"user\", \"content\": \"Hi\"}], \"params\": {}},\n",
        "    {\"messages\": [{\"role\": \"user\", \"content\": \"What’s the weather?\"}], \"params\": {}}\n",
        "])\n",
        "\n",
        "results = evaluate(\n",
        "    model=\"runs:/cf094287-d05b-4265-b8c0-7241e61d2e39/my_agent_model\",  # or use the local path if not registered\n",
        "    data=eval_data,\n",
        "    targets=[\"Processed 1 messages\", \"Processed 1 messages\"],  # Expected outputs\n",
        "    model_type=\"classifier\",  # You can also use 'regressor' or 'text'\n",
        "    evaluators=\"default\",\n",
        ")\n",
        "\n",
        "print(results.metrics)\n"
      ]
    },
    {
      "cell_type": "markdown",
      "metadata": {},
      "source": [
        "After this different code"
      ]
    },
    {
      "cell_type": "code",
      "execution_count": 4,
      "metadata": {},
      "outputs": [],
      "source": [
        "import pandas as pd\n",
        "from typing import Any\n",
        "\n",
        "class MyChatModel(mlflow.pyfunc.PythonModel):\n",
        "    def predict(self, context: mlflow.pyfunc.PythonModelContext, model_input: pd.DataFrame) -> list[str]:\n",
        "        # Your model logic here\n",
        "        return [\"Echo: \" + str(msg) for msg in model_input[\"message\"]]\n",
        "\n"
      ]
    },
    {
      "cell_type": "code",
      "execution_count": 5,
      "metadata": {},
      "outputs": [
        {
          "name": "stderr",
          "output_type": "stream",
          "text": [
            "/anaconda/envs/azureml_py310_sdkv2/lib/python3.10/site-packages/azureml/mlflow/_protos/aml_service_pb2.py:10: UserWarning: google.protobuf.service module is deprecated. RPC implementations should provide code generator plugins which generate code specific to the RPC implementation. service.py will be removed in Jan 2025\n",
            "  from google.protobuf import service as _service\n",
            "2025/05/21 14:48:41 INFO mlflow.pyfunc: Validating input example against model signature\n"
          ]
        },
        {
          "data": {
            "text/plain": [
              "<mlflow.models.model.ModelInfo at 0x7f6970c96f80>"
            ]
          },
          "execution_count": 5,
          "metadata": {},
          "output_type": "execute_result"
        }
      ],
      "source": [
        "from mlflow.models import infer_signature\n",
        "\n",
        "example_input = pd.DataFrame({\"message\": [\"Hello\"]})\n",
        "example_output = [\"Echo: Hello\"]\n",
        "signature = infer_signature(example_input, example_output)\n",
        "\n",
        "mlflow.pyfunc.log_model(\n",
        "    artifact_path=\"chat_model\",\n",
        "    python_model=MyChatModel(),\n",
        "    signature=signature,\n",
        "    input_example=example_input,\n",
        ")\n"
      ]
    },
    {
      "cell_type": "code",
      "execution_count": 83,
      "metadata": {
        "application/vnd.databricks.v1+cell": {
          "cellMetadata": {
            "byteLimit": 2048000,
            "rowLimit": 10000
          },
          "inputWidgets": {},
          "nuid": "53d6651d-a30b-4205-8ec4-f57f3cc102aa",
          "showTitle": false,
          "tableResultSettingsMap": {},
          "title": ""
        },
        "gather": {
          "logged": 1740682727645
        }
      },
      "outputs": [
        {
          "ename": "NameError",
          "evalue": "name 'ChatCompletionChunk' is not defined",
          "output_type": "error",
          "traceback": [
            "\u001b[0;31m---------------------------------------------------------------------------\u001b[0m",
            "\u001b[0;31mNameError\u001b[0m                                 Traceback (most recent call last)",
            "Cell \u001b[0;32mIn[83], line 1\u001b[0m\n\u001b[0;32m----> 1\u001b[0m \u001b[38;5;28;01mclass\u001b[39;00m \u001b[38;5;21;01mMyAgent\u001b[39;00m(ChatModel):\n\u001b[1;32m      2\u001b[0m \u001b[38;5;250m    \u001b[39m\u001b[38;5;124;03m\"\"\"\u001b[39;00m\n\u001b[1;32m      3\u001b[0m \u001b[38;5;124;03m    Defines a custom agent that processes ChatCompletionRequests\u001b[39;00m\n\u001b[1;32m      4\u001b[0m \u001b[38;5;124;03m    and returns ChatCompletionResponses.\u001b[39;00m\n\u001b[1;32m      5\u001b[0m \u001b[38;5;124;03m    \"\"\"\u001b[39;00m\n\u001b[1;32m      7\u001b[0m     \u001b[38;5;28;01mdef\u001b[39;00m \u001b[38;5;21m__init__\u001b[39m(\n\u001b[1;32m      8\u001b[0m         \u001b[38;5;28mself\u001b[39m,\n\u001b[1;32m      9\u001b[0m         agent_name: \u001b[38;5;28mstr\u001b[39m,\n\u001b[1;32m     10\u001b[0m         agent_function: Callable,\n\u001b[1;32m     11\u001b[0m     ) \u001b[38;5;241m-\u001b[39m\u001b[38;5;241m>\u001b[39m \u001b[38;5;28;01mNone\u001b[39;00m:\n",
            "Cell \u001b[0;32mIn[83], line 39\u001b[0m, in \u001b[0;36mMyAgent\u001b[0;34m()\u001b[0m\n\u001b[1;32m     34\u001b[0m         \u001b[38;5;28;01mreturn\u001b[39;00m client_type\n\u001b[1;32m     35\u001b[0m     \u001b[38;5;28;01mreturn\u001b[39;00m \u001b[38;5;124m\"\u001b[39m\u001b[38;5;124munknown\u001b[39m\u001b[38;5;124m\"\u001b[39m\n\u001b[1;32m     37\u001b[0m \u001b[38;5;28;01mdef\u001b[39;00m \u001b[38;5;21mpredict_stream\u001b[39m(\n\u001b[1;32m     38\u001b[0m     \u001b[38;5;28mself\u001b[39m, context, messages: List[ChatMessage], params: ChatParams\n\u001b[0;32m---> 39\u001b[0m ) \u001b[38;5;241m-\u001b[39m\u001b[38;5;241m>\u001b[39m Generator[\u001b[43mChatCompletionChunk\u001b[49m, \u001b[38;5;28;01mNone\u001b[39;00m, \u001b[38;5;28;01mNone\u001b[39;00m]:\n\u001b[1;32m     40\u001b[0m     \u001b[38;5;28;01mraise\u001b[39;00m \u001b[38;5;167;01mNotImplementedError\u001b[39;00m(\u001b[38;5;124m\"\u001b[39m\u001b[38;5;124mStreaming agents are not supported by this model.\u001b[39m\u001b[38;5;124m\"\u001b[39m)\n",
            "\u001b[0;31mNameError\u001b[0m: name 'ChatCompletionChunk' is not defined"
          ]
        }
      ],
      "source": [
        "class MyAgent(ChatModel):\n",
        "    \"\"\"\n",
        "    Defines a custom agent that processes ChatCompletionRequests\n",
        "    and returns ChatCompletionResponses.\n",
        "    \"\"\"\n",
        "\n",
        "    def __init__(\n",
        "        self,\n",
        "        agent_name: str,\n",
        "        agent_function: Callable,\n",
        "    ) -> None:\n",
        "        self.agent_name = agent_name\n",
        "        self.agent_function = agent_function\n",
        "\n",
        "    def predict(\n",
        "        self, context, messages: list[ChatMessage], params: ChatParams\n",
        "    ) -> ChatCompletionResponse:\n",
        "        # Get a \"client_type\" field from params.custom_inputs, if specified.\n",
        "        # It's best practice to assume custom_inputs is optional and may not be provided\n",
        "        client_type = self._get_client_type(params)\n",
        "        res = self.agent_function(messages=messages, params=params, verbose=True)\n",
        "        return res\n",
        "\n",
        "    def _get_client_type(self, params: ChatParams) -> str:\n",
        "        \"\"\"\n",
        "        Helper for extracting the \"client type\" used to make a request to the\n",
        "        agent. The client type is passed as custom input to the agent\n",
        "        \"\"\"\n",
        "        if (\n",
        "            client_type := params\n",
        "            and params.custom_inputs\n",
        "            and params.custom_inputs.get(\"client_type\", \"unknown\")\n",
        "        ):\n",
        "            return client_type\n",
        "        return \"unknown\"\n",
        "\n",
        "    def predict_stream(\n",
        "        self, context, messages: List[ChatMessage], params: ChatParams\n",
        "    ) -> Generator[ChatCompletionChunk, None, None]:\n",
        "        raise NotImplementedError(\"Streaming agents are not supported by this model.\")"
      ]
    },
    {
      "cell_type": "code",
      "execution_count": 7,
      "metadata": {
        "application/vnd.databricks.v1+cell": {
          "cellMetadata": {
            "byteLimit": 2048000,
            "rowLimit": 10000
          },
          "inputWidgets": {},
          "nuid": "1aea69c8-c140-41ca-969d-25dca1bd3d5b",
          "showTitle": false,
          "tableResultSettingsMap": {},
          "title": ""
        },
        "gather": {
          "logged": 1740682727774
        }
      },
      "outputs": [],
      "source": [
        "agent = MyAgent(agent_name=MODEL_NAME, agent_function=my_agent_function)\n",
        "set_model(agent)"
      ]
    },
    {
      "cell_type": "code",
      "execution_count": 8,
      "metadata": {
        "application/vnd.databricks.v1+cell": {
          "cellMetadata": {
            "byteLimit": 2048000,
            "rowLimit": 10000
          },
          "inputWidgets": {},
          "nuid": "f311a2a0-0d9b-445f-ac77-3857896d7c79",
          "showTitle": false,
          "tableResultSettingsMap": {},
          "title": ""
        },
        "gather": {
          "logged": 1740682728454
        }
      },
      "outputs": [
        {
          "name": "stderr",
          "output_type": "stream",
          "text": [
            "Error in StdOutCallbackHandler.on_chain_start callback: AttributeError(\"'NoneType' object has no attribute 'get'\")\n"
          ]
        },
        {
          "name": "stdout",
          "output_type": "stream",
          "text": [
            "\u001b[32;1m\u001b[1;3mThe race you asked about last was Hispanic.\u001b[0m\n",
            "\n",
            "\u001b[1m> Finished chain.\u001b[0m\n",
            "The race you asked about last was Hispanic.\n"
          ]
        }
      ],
      "source": [
        "# Run your agent class to test the execution\n",
        "\n",
        "input_messages = [\n",
        "    ChatMessage(role=\"user\", content=\"How many white patients in the dataset?\"),\n",
        "    ChatMessage(role=\"assistant\", content=\"300\"),\n",
        "    ChatMessage(role=\"user\", content=\"How many hispanic patients in the dataset?\"),\n",
        "    ChatMessage(role=\"assistant\", content=\"400\"),\n",
        "    ChatMessage(role=\"user\", content=\"What race was the last one I asked about?\"),\n",
        "]\n",
        "params_with_custom_inputs = ChatParams(custom_inputs={\"client_type\": \"mobile\"})\n",
        "response = agent.predict(context=None, messages=input_messages, params=params_with_custom_inputs)\n",
        "print(response.choices[0].message.content)"
      ]
    },
    {
      "cell_type": "markdown",
      "metadata": {
        "application/vnd.databricks.v1+cell": {
          "cellMetadata": {
            "byteLimit": 2048000,
            "rowLimit": 10000
          },
          "inputWidgets": {},
          "nuid": "22728f88-b633-40a0-8e3a-d7be2e58364b",
          "showTitle": false,
          "tableResultSettingsMap": {},
          "title": ""
        }
      },
      "source": [
        "## Registering your model through MLFlow"
      ]
    },
    {
      "cell_type": "code",
      "execution_count": null,
      "metadata": {
        "application/vnd.databricks.v1+cell": {
          "cellMetadata": {
            "byteLimit": 2048000,
            "rowLimit": 10000
          },
          "inputWidgets": {},
          "nuid": "efdd3c53-e364-4e44-810f-5bdc9e99a0f4",
          "showTitle": false,
          "tableResultSettingsMap": {},
          "title": ""
        },
        "gather": {
          "logged": 1740682728581
        }
      },
      "outputs": [],
      "source": [
        "metadata = None\n",
        "\n",
        "registered_model_name = MODEL_NAME"
      ]
    },
    {
      "cell_type": "code",
      "execution_count": null,
      "metadata": {
        "application/vnd.databricks.v1+cell": {
          "cellMetadata": {
            "byteLimit": 2048000,
            "rowLimit": 10000
          },
          "inputWidgets": {},
          "nuid": "f55e626d-b9a2-414d-858c-731f417146aa",
          "showTitle": false,
          "tableResultSettingsMap": {},
          "title": ""
        },
        "gather": {
          "logged": 1740682746030
        }
      },
      "outputs": [
        {
          "name": "stderr",
          "output_type": "stream",
          "text": [
            "2025/02/27 18:58:53 INFO mlflow.pyfunc: Predicting on input example to validate output\n",
            "Error in StdOutCallbackHandler.on_chain_start callback: AttributeError(\"'NoneType' object has no attribute 'get'\")\n",
            "Error in StdOutCallbackHandler.on_chain_start callback: AttributeError(\"'NoneType' object has no attribute 'get'\")\n",
            "Registered model 'agent_demo' already exists. Creating a new version of this model...\n",
            "2025/02/27 18:59:04 INFO mlflow.store.model_registry.abstract_store: Waiting up to 300 seconds for model version to finish creation. Model name: agent_demo, version 18\n",
            "Created version '18' of model 'agent_demo'.\n"
          ]
        },
        {
          "name": "stdout",
          "output_type": "stream",
          "text": [
            "\u001b[32;1m\u001b[1;3mHello! How can I assist you today? If you have any questions or need information, feel free to ask.\u001b[0m\n",
            "\n",
            "\u001b[1m> Finished chain.\u001b[0m\n",
            "\u001b[32;1m\u001b[1;3mHello! How can I assist you today? If you have any questions or need information, feel free to ask.\u001b[0m\n",
            "\n",
            "\u001b[1m> Finished chain.\u001b[0m\n",
            "🏃 View run goofy_island_2p1szkcy at: https://eastus2.api.azureml.ms/mlflow/v2.0/subscriptions/91c3532a-a293-4c32-a909-b3be52cb3084/resourceGroups/codeorange-edap-us6-shared-svc-appresources-devtest/providers/Microsoft.MachineLearningServices/workspaces/coedapssus6azmldevtest001/#/experiments/f1a1e24c-4df5-4026-ba6c-f3dcfd1bc9c8/runs/25cb70c7-3f8e-4ba2-8258-36df14001800\n",
            "🧪 View experiment at: https://eastus2.api.azureml.ms/mlflow/v2.0/subscriptions/91c3532a-a293-4c32-a909-b3be52cb3084/resourceGroups/codeorange-edap-us6-shared-svc-appresources-devtest/providers/Microsoft.MachineLearningServices/workspaces/coedapssus6azmldevtest001/#/experiments/f1a1e24c-4df5-4026-ba6c-f3dcfd1bc9c8\n"
          ]
        }
      ],
      "source": [
        "# Then run an experiment to log the model in MLFLow\n",
        "\n",
        "\n",
        "input_messages = [\n",
        "    ChatMessage(role=\"user\", content=\"Hi\"),\n",
        "]\n",
        "\n",
        "with mlflow.start_run() as r:\n",
        "\n",
        "    logged_agent_info = mlflow.pyfunc.log_model(\n",
        "        python_model=agent,\n",
        "        artifact_path=ARTIFACT_PATH,\n",
        "        registered_model_name=registered_model_name,\n",
        "        input_example=input_messages,\n",
        "        metadata=metadata,\n",
        "        pip_requirements=\"requirements.txt\",\n",
        "    )"
      ]
    },
    {
      "cell_type": "code",
      "execution_count": null,
      "metadata": {
        "application/vnd.databricks.v1+cell": {
          "cellMetadata": {
            "byteLimit": 2048000,
            "rowLimit": 10000
          },
          "inputWidgets": {},
          "nuid": "f119b692-d618-4132-90ff-231c370170d1",
          "showTitle": false,
          "tableResultSettingsMap": {},
          "title": ""
        },
        "gather": {
          "logged": 1740682757031
        }
      },
      "outputs": [],
      "source": [
        "# WORK IN PROGRESS\n",
        "# working on the code to create a serving endpoint for your Agent in AML"
      ]
    }
  ],
  "metadata": {
    "application/vnd.databricks.v1+notebook": {
      "computePreferences": null,
      "dashboards": [],
      "environmentMetadata": {
        "base_environment": "",
        "environment_version": "1"
      },
      "language": "python",
      "notebookMetadata": {
        "pythonIndentUnit": 4
      },
      "notebookName": "registration_and_serving",
      "widgets": {}
    },
    "kernel_info": {
      "name": "python38-azureml"
    },
    "kernelspec": {
      "display_name": "Python 3.10 - SDK v2",
      "language": "python",
      "name": "python310-sdkv2"
    },
    "language_info": {
      "codemirror_mode": {
        "name": "ipython",
        "version": 3
      },
      "file_extension": ".py",
      "mimetype": "text/x-python",
      "name": "python",
      "nbconvert_exporter": "python",
      "pygments_lexer": "ipython3",
      "version": "3.10.14"
    },
    "microsoft": {
      "host": {
        "AzureML": {
          "notebookHasBeenCompleted": true
        }
      },
      "ms_spell_check": {
        "ms_spell_check_language": "en"
      }
    },
    "nteract": {
      "version": "nteract-front-end@1.0.0"
    }
  },
  "nbformat": 4,
  "nbformat_minor": 0
}
